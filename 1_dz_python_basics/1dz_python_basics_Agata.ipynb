{
 "cells": [
  {
   "cell_type": "markdown",
   "id": "34a934d0",
   "metadata": {},
   "source": [
    "Задание 1\n",
    "Даны 2 переменных, в которых хранятся строки произвольной длины: phrase_1 и phrase_2.\n",
    "Напишите код, который проверяет какая из этих строк длиннее."
   ]
  },
  {
   "cell_type": "code",
   "execution_count": 7,
   "id": "6ae38ccc",
   "metadata": {},
   "outputs": [
    {
     "name": "stdout",
     "output_type": "stream",
     "text": [
      "посроппрос\n",
      "аппр\n",
      "Фраза 1 длиннее фразы 2\n"
     ]
    }
   ],
   "source": [
    "phrase_1 = input()\n",
    "phrase_2 = input()\n",
    "if len(phrase_1) > len(phrase_2):\n",
    "    print('Фраза 1 длиннее фразы 2')\n",
    "elif len(phrase_1) < len(phrase_2):\n",
    "    print('Фраза 2 длиннее фразы 1')\n",
    "else: \n",
    "    print('Фразы равной длины')"
   ]
  },
  {
   "cell_type": "markdown",
   "id": "7c9ca0aa",
   "metadata": {},
   "source": [
    "Задание 2\n",
    "Дана переменная, в которой хранится четырехзначное число (год). Необходимо написать программу, которая выведет, является ли данный год високосным или обычным."
   ]
  },
  {
   "cell_type": "code",
   "execution_count": 6,
   "id": "6c23a682",
   "metadata": {},
   "outputs": [
    {
     "name": "stdout",
     "output_type": "stream",
     "text": [
      "2020\n",
      "Високосный год\n"
     ]
    }
   ],
   "source": [
    "import calendar\n",
    "year = int(input())\n",
    "if calendar.isleap(year):\n",
    "    print('Високосный год')\n",
    "else: \n",
    "    print('Обычный год')"
   ]
  },
  {
   "cell_type": "markdown",
   "id": "88e22f53",
   "metadata": {},
   "source": [
    "Задание 3\n",
    "Необходимо написать программу, которая будет запрашивать у пользователя месяц и дату рождения и выводить соответствующий знак зодиака."
   ]
  },
  {
   "cell_type": "code",
   "execution_count": 46,
   "id": "9db148ee",
   "metadata": {},
   "outputs": [
    {
     "name": "stdout",
     "output_type": "stream",
     "text": [
      "Введите день:25\n",
      "Введите месяц:Апрель\n",
      "Ваш знак зодиака: Телец\n"
     ]
    }
   ],
   "source": [
    "date = int(input('Введите день:'))\n",
    "month = input('Введите месяц:').lower()\n",
    "if (date>=21 and date<=31 and month=='март') or (month=='апрель' and date>=1 and date<=19):\n",
    "    print(\"Ваш знак зодиака: Овен\")\n",
    "elif (date>=20 and date<=30 and month=='апрель') or (month=='май' and date>=1 and date<=20):\n",
    "    print(\"Ваш знак зодиака: Телец\")\n",
    "elif (date>=21 and date<=31 and month=='май') or (month=='июнь' and date>=1 and date<=21):\n",
    "    print(\"Ваш знак зодиака: Близнецы\")\n",
    "elif (date>=22 and date<=30 and month=='июнь') or (month=='июль' and date>=1 and date<=22):\n",
    "    print(\"Ваш знак зодиака: Рак\")\n",
    "elif (date>=23 and date<=31 and month=='июль') or (month=='август' and date>=1 and date<=22):\n",
    "    print(\"Ваш знак зодиака: Лев\")\n",
    "elif (date>=23 and date<=31 and month=='август') or (month=='сентябрь' and date>=1 and date<=22):\n",
    "    print(\"Ваш знак зодиака: Дева\")\n",
    "elif (date>=23 and date<=30 and month=='сентябрь') or (month=='октябрь' and date>=1 and date<=23):\n",
    "    print(\"Ваш знак зодиака: Весы\")\n",
    "elif (date>=24 and date<=31 and month=='октябрь') or (month=='ноябрь' and date>=1 and date<=22):\n",
    "    print(\"Ваш знак зодиака: Скорпион\")\n",
    "elif (date>=23 and date<=30 and month=='ноябрь') or (month=='декабрь' and date>=1 and date<=21):\n",
    "    print(\"Ваш знак зодиака: Стрелец\")\n",
    "elif (date>=22 and date<=31 and month=='декабрь') or (month=='январь' and date>=1 and date<=20):\n",
    "    print(\"Ваш знак зодиака: Козерог\")\n",
    "elif (date>=21 and date<=31 and month=='январь') or (month=='февраль' and date>=1 and date<=18):\n",
    "    print(\"Ваш знак зодиака: Водолей\")\n",
    "else:\n",
    "    print(\"Ваш знак зодиака: Рыбы\")"
   ]
  },
  {
   "cell_type": "markdown",
   "id": "bf9a2072",
   "metadata": {},
   "source": [
    "Задание 4\n",
    "Вам нужно написать программу для подбора упаковок по размерам товара. Размеры хранятся в переменных (в сантиметрах):\n",
    "\n",
    "Используйте следующие правила:\n",
    "\n",
    "если каждое из трех измерений менее 15 сантиметров, то выведите на экран “Коробка №1”;\n",
    "если хотя бы одно из измерений больше 15 сантиметров, но менее 50 сантиметров, то выводите “Коробка №2”;\n",
    "если длина товара больше 2 метров, то выводите “Упаковка для лыж”;\n",
    "во всех остальных случаях выводите “Стандартная коробка №3”."
   ]
  },
  {
   "cell_type": "markdown",
   "id": "e218bdcd",
   "metadata": {},
   "source": [
    "#в этом задании не очень понятно: подразумевается, что коробка 2 меньше, чем 3? я подумала, логика такая, поэтому для №2 написала лишние условия. если их не писать, то получится, что 2 измерения могут быть >50, а одно 15<x<50, и это все равно будет 2ая. "
   ]
  },
  {
   "cell_type": "code",
   "execution_count": 53,
   "id": "4df349a4",
   "metadata": {},
   "outputs": [
    {
     "name": "stdout",
     "output_type": "stream",
     "text": [
      "60\n",
      "78\n",
      "42\n",
      "Стандартная коробка №3\n"
     ]
    }
   ],
   "source": [
    "width = int(input())\n",
    "length = int(input())\n",
    "height = int(input())\n",
    "if width<15 and length<15 and height<15:\n",
    "    print('Коробка №1')\n",
    "elif length > 200:\n",
    "    print('Упаковка для лыж')\n",
    "elif (15<width<50 and length<50 and height<50) or (width<50 and 15<length<50 and height<50) or (width<50 and length<50 and 15<height<50):\n",
    "    print('Коробка №2')\n",
    "else:\n",
    "    print('Стандартная коробка №3')"
   ]
  },
  {
   "cell_type": "markdown",
   "id": "d61613a9",
   "metadata": {},
   "source": [
    "Задание 5 (необязательное)\n",
    "Дана переменная, в которой хранится шестизначное число (номер проездного билета). Напишите программу, которая будет определять, является ли данный билет “счастливым”. Билет считается счастливым, если сумма первых трех цифр совпадает с суммой последних трех цифр номера."
   ]
  },
  {
   "cell_type": "code",
   "execution_count": 4,
   "id": "f2f48628",
   "metadata": {},
   "outputs": [
    {
     "name": "stdout",
     "output_type": "stream",
     "text": [
      "354354\n",
      "Счастливый\n"
     ]
    }
   ],
   "source": [
    "n = str(input())\n",
    "if (int(n[0]) + int(n[1]) + int(n[2])) == (int(n[3])) + int(n[4]) + int(n[5]):\n",
    "    print('Счастливый')\n",
    "else:\n",
    "    print('Несчастливый')\n",
    "    "
   ]
  },
  {
   "cell_type": "markdown",
   "id": "a1a5b84c",
   "metadata": {},
   "source": [
    "Задание 6 (необязательное)\n",
    "Напишите программу, которая сможет вычислять площади трех фигур (круг, треугольник и прямоугольник). Тип фигуры запрашиваем через пользовательский ввод, после чего делаем запрос характеристик фигуры:\n",
    "\n",
    "если пользователь выбрал круг, запрашиваем его радиус,\n",
    "если треугольник – длины трех его сторон;\n",
    "если прямоугольник – длины двух его сторон."
   ]
  },
  {
   "cell_type": "code",
   "execution_count": 3,
   "id": "2454dcb8",
   "metadata": {},
   "outputs": [
    {
     "name": "stdout",
     "output_type": "stream",
     "text": [
      "Введите тип фигуры:треугольник\n",
      "Введите длину стороны A:2\n",
      "Введите длину стороны B:2\n",
      "Введите длину стороны C:2\n",
      "Площадь треугольника 1.7320508075688772\n"
     ]
    }
   ],
   "source": [
    "from math import sqrt\n",
    "fig = input('Введите тип фигуры:')\n",
    "if fig == 'круг':\n",
    "    r = int(input('Введите радиус круга:'))\n",
    "    s = r**2\n",
    "    print('Площадь круга', s)\n",
    "elif fig == 'треугольник':\n",
    "    a = int(input('Введите длину стороны A:'))\n",
    "    b = int(input('Введите длину стороны B:'))\n",
    "    c = int(input('Введите длину стороны C:'))\n",
    "    p = (a + b + c)/2\n",
    "    s = sqrt(p * (p - a) * (p - b) * (p - c))\n",
    "    print('Площадь треугольника', s)\n",
    "elif fig == 'прямоугольник':\n",
    "    a = int(input('Введите длину стороны A:'))\n",
    "    b = int(input('Введите длину стороны B:'))\n",
    "    s = a * b\n",
    "    print('Площадь прямоугольника', s)\n",
    "\n",
    "    "
   ]
  }
 ],
 "metadata": {
  "kernelspec": {
   "display_name": "Python 3",
   "language": "python",
   "name": "python3"
  },
  "language_info": {
   "codemirror_mode": {
    "name": "ipython",
    "version": 3
   },
   "file_extension": ".py",
   "mimetype": "text/x-python",
   "name": "python",
   "nbconvert_exporter": "python",
   "pygments_lexer": "ipython3",
   "version": "3.8.8"
  }
 },
 "nbformat": 4,
 "nbformat_minor": 5
}
