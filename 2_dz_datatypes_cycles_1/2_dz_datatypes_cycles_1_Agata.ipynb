{
 "cells": [
  {
   "cell_type": "markdown",
   "id": "448c27e7",
   "metadata": {},
   "source": [
    "1. Дана переменная, в которой хранится слово из латинских букв. Напишите код, который выводит на экран:\n",
    "среднюю букву, если число букв в слове нечетное;\n",
    "две средних буквы, если число букв четное."
   ]
  },
  {
   "cell_type": "code",
   "execution_count": 3,
   "id": "6d81c2c9",
   "metadata": {},
   "outputs": [
    {
     "name": "stdout",
     "output_type": "stream",
     "text": [
      "rtyoiu\n",
      "yo\n"
     ]
    }
   ],
   "source": [
    "a = input()\n",
    "if len(a) % 2 != 0:\n",
    "    print (a[len(a)//2])\n",
    "else:\n",
    "    print (a[len(a)//2 - 1] + a[len(a)//2])"
   ]
  },
  {
   "cell_type": "markdown",
   "id": "fa2abe43",
   "metadata": {},
   "source": [
    "Задание 2\n",
    "Напишите программу, которая последовательно запрашивает у пользователя числа (по одному за раз) и после первого нуля выводит сумму всех ранее введенных чисел."
   ]
  },
  {
   "cell_type": "code",
   "execution_count": 7,
   "id": "c9d95dce",
   "metadata": {},
   "outputs": [
    {
     "name": "stdout",
     "output_type": "stream",
     "text": [
      "Введите число:1\n",
      "Введите число:1\n",
      "Введите число:1\n",
      "Введите число:2\n",
      "Введите число:3\n",
      "Введите число:1\n",
      "Введите число:1\n",
      "Введите число:0\n",
      "10\n"
     ]
    }
   ],
   "source": [
    "s = 0\n",
    "a = int(input('Введите число:'))\n",
    "while a != 0:\n",
    "    s = s + a  \n",
    "    a = int(input('Введите число:'))       \n",
    "print(s)\n",
    "\n",
    "    "
   ]
  },
  {
   "cell_type": "markdown",
   "id": "4c396afc",
   "metadata": {},
   "source": [
    "Задание 3\n",
    "Мы делаем MVP dating-сервиса, и у нас есть список парней и девушек.\n",
    "Выдвигаем гипотезу: лучшие рекомендации мы получим, если просто отсортируем имена по алфавиту и познакомим людей с одинаковыми индексами после сортировки! Но мы не будем никого знакомить, если кто-то может остаться без пары:"
   ]
  },
  {
   "cell_type": "code",
   "execution_count": 28,
   "id": "4b4f11c0",
   "metadata": {},
   "outputs": [
    {
     "name": "stdout",
     "output_type": "stream",
     "text": [
      "Список мужчинg,u,s\n",
      "Список женщинf,g,r\n",
      "Идеальные пары:\n",
      "g  и  f\n",
      "Идеальные пары:\n",
      "s  и  g\n",
      "Идеальные пары:\n",
      "u  и  r\n"
     ]
    }
   ],
   "source": [
    "s_boys = input('Список мужчин')\n",
    "s_girls = input('Список женщин')\n",
    "boys  = s_boys.split(',')\n",
    "girls  = s_girls.split(',')\n",
    "boys.sort()\n",
    "girls.sort()\n",
    "\n",
    "if len(boys) == len(girls):\n",
    "    for i in range(len(boys)):\n",
    "        print('Идеальные пары:')\n",
    "        print (boys[i], ' и ', girls[i])\n",
    "else:\n",
    "    print('Внимание, кто-то может остаться без пары!')"
   ]
  },
  {
   "cell_type": "markdown",
   "id": "3c2889ac",
   "metadata": {},
   "source": [
    "Задание 4\n",
    "У нас есть список, содержащий информацию о среднедневной температуре в Фаренгейтах за произвольный период по странам (структура данных в примере). Необходимо написать код, который рассчитает среднюю температуру за период в Цельсиях(!) для каждой страны."
   ]
  },
  {
   "cell_type": "code",
   "execution_count": 29,
   "id": "e265f38a",
   "metadata": {},
   "outputs": [
    {
     "name": "stdout",
     "output_type": "stream",
     "text": [
      "Средняя температура в странах:\n",
      "Thailand - 23.86 C\n",
      "Germany - 13.8 C\n",
      "Russia - 3.71 C\n",
      "Poland - 12.0 C\n"
     ]
    }
   ],
   "source": [
    "countries_temperature = [\n",
    "['Thailand', [75.2, 77, 78.8, 73.4, 68, 75.2, 77]],\n",
    "['Germany', [57.2, 55.4, 59, 59, 53.6]],\n",
    "['Russia', [35.6, 37.4, 39.2, 41, 42.8, 39.2, 35.6]],\n",
    "['Poland', [50, 50, 53.6, 57.2, 55.4, 55.4]]\n",
    "]\n",
    "print('Средняя температура в странах:')\n",
    "for i in range(len(countries_temperature)):\n",
    "    country = countries_temperature[i][0]\n",
    "    avg_temp = round(((sum(countries_temperature[i][1])/len(countries_temperature[i][1]) - 32) / 1.8) , 2)\n",
    "    print(country, '-', avg_temp, 'C')\n"
   ]
  },
  {
   "cell_type": "markdown",
   "id": "ce2560ec",
   "metadata": {},
   "source": [
    "Задание 5 (необязательное)\n",
    "Дан поток логов по количеству просмотренных страниц для каждого пользователя. Вам необходимо написать алгоритм, который считает среднее значение просмотров на пользователя. Т. е. надо посчитать отношение суммы всех просмотров к количеству уникальных пользователей."
   ]
  },
  {
   "cell_type": "code",
   "execution_count": null,
   "id": "e40f6283",
   "metadata": {},
   "outputs": [],
   "source": []
  },
  {
   "cell_type": "markdown",
   "id": "4b2b3993",
   "metadata": {},
   "source": [
    "Задание 6 (необязательное)\n",
    "Необходимо у пользователя запрашивать набор чисел разделенных пробелом. В результате должны выводиться числа, которые повторяются в вводе более одного раза."
   ]
  },
  {
   "cell_type": "code",
   "execution_count": null,
   "id": "b5541f93",
   "metadata": {},
   "outputs": [],
   "source": []
  }
 ],
 "metadata": {
  "kernelspec": {
   "display_name": "Python 3",
   "language": "python",
   "name": "python3"
  },
  "language_info": {
   "codemirror_mode": {
    "name": "ipython",
    "version": 3
   },
   "file_extension": ".py",
   "mimetype": "text/x-python",
   "name": "python",
   "nbconvert_exporter": "python",
   "pygments_lexer": "ipython3",
   "version": "3.8.8"
  }
 },
 "nbformat": 4,
 "nbformat_minor": 5
}
