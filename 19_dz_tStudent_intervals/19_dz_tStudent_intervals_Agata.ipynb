{
 "cells": [
  {
   "cell_type": "code",
   "execution_count": 2,
   "id": "0f274338",
   "metadata": {},
   "outputs": [],
   "source": [
    "import numpy as np  \n",
    "import pandas as pd  \n",
    "from scipy import stats\n",
    "import matplotlib.pyplot as plt\n",
    "import seaborn as sns "
   ]
  },
  {
   "cell_type": "markdown",
   "id": "45d39451",
   "metadata": {},
   "source": [
    "Задание № 0\n",
    "Найдите минимально необходимый объем выборки для построения интервальной оценки среднего.\n",
    "\n",
    "желаемая точность  Δ  = 3;\n",
    "дисперсия  𝜎2  = 225;\n",
    "уровень доверия  𝛽  = 0.95.\n",
    "Ответ округлите до целого"
   ]
  },
  {
   "cell_type": "code",
   "execution_count": 4,
   "id": "62c798a4",
   "metadata": {},
   "outputs": [
    {
     "data": {
      "text/plain": [
       "0.975"
      ]
     },
     "execution_count": 4,
     "metadata": {},
     "output_type": "execute_result"
    }
   ],
   "source": [
    "z = 1 - (1-0.95)/2\n",
    "z"
   ]
  },
  {
   "cell_type": "code",
   "execution_count": 38,
   "id": "995342ba",
   "metadata": {},
   "outputs": [
    {
     "data": {
      "text/plain": [
       "24"
      ]
     },
     "execution_count": 38,
     "metadata": {},
     "output_type": "execute_result"
    }
   ],
   "source": [
    "n = round((z * 225**(1/2) / 3)**2)\n",
    "n"
   ]
  },
  {
   "cell_type": "markdown",
   "id": "4bdb9cd0",
   "metadata": {},
   "source": [
    "Задание № 1\n",
    "Постройте 98% доверительный интервал для среднего значения, если известно, что\n",
    "\n",
    "объем выборки n = 25;\n",
    "среднее значение по выборке  𝑥⎯⎯⎯  = 130;\n",
    "Из достоверных источников известно стандартное отклонение  𝜎=15 .\n",
    "В ответ укажите длину полученного доверительного интервала (разницу между правым и левым концом), окруленную до целого"
   ]
  },
  {
   "cell_type": "code",
   "execution_count": 19,
   "id": "20640bc8",
   "metadata": {},
   "outputs": [
    {
     "data": {
      "text/plain": [
       "-2.3263478740408408"
      ]
     },
     "execution_count": 19,
     "metadata": {},
     "output_type": "execute_result"
    }
   ],
   "source": [
    "import scipy.stats as st\n",
    "st.norm.ppf((1-0.98)/2)"
   ]
  },
  {
   "cell_type": "code",
   "execution_count": 20,
   "id": "d4a9917b",
   "metadata": {},
   "outputs": [
    {
     "data": {
      "text/plain": [
       "136.99"
      ]
     },
     "execution_count": 20,
     "metadata": {},
     "output_type": "execute_result"
    }
   ],
   "source": [
    "a1 = 130 - 15/5 * (-2.33)\n",
    "a1"
   ]
  },
  {
   "cell_type": "code",
   "execution_count": 21,
   "id": "3e520f76",
   "metadata": {},
   "outputs": [
    {
     "data": {
      "text/plain": [
       "123.01"
      ]
     },
     "execution_count": 21,
     "metadata": {},
     "output_type": "execute_result"
    }
   ],
   "source": [
    "a2 = 130 + 15/5 * (-2.33)\n",
    "a2"
   ]
  },
  {
   "cell_type": "code",
   "execution_count": 22,
   "id": "086aae91",
   "metadata": {},
   "outputs": [
    {
     "data": {
      "text/plain": [
       "-14"
      ]
     },
     "execution_count": 22,
     "metadata": {},
     "output_type": "execute_result"
    }
   ],
   "source": [
    "round(a2 - a1)"
   ]
  },
  {
   "cell_type": "markdown",
   "id": "c2eb9972",
   "metadata": {},
   "source": [
    "2. Вам даны две выборки роста мужчин и женщин. Докажите, используя t-Тест Стьдента, что различия между выборками незначительно, если уровень значимости равен 0.001\n",
    "Задание № 2\n",
    "Даны две выборки роста мужчин и женщин.\n",
    "\n",
    "Докажите, используя t-Тест Стьдента, что различие между выборками незначительно, если уровень значимости равен  𝛼  = 0.001.\n",
    "Покажите различия визуально"
   ]
  },
  {
   "cell_type": "code",
   "execution_count": 23,
   "id": "81900ce0",
   "metadata": {},
   "outputs": [],
   "source": [
    "import scipy.stats as stats\n",
    "np.random.seed(42) #фиксация случайности\n",
    "\n",
    "mens  = stats.norm.rvs(loc=171, scale=100, size=150000)  # Выборка мужчин со средним ростом 171\n",
    "womens = stats.norm.rvs(loc=170, scale=100, size=150000)  # Выборка женщин со средним ростом 170\n",
    "#В двух строчках выше генерируется две выбороки, где loc это среднее значение, а scale это дисперсия"
   ]
  },
  {
   "cell_type": "code",
   "execution_count": 24,
   "id": "443a196a",
   "metadata": {},
   "outputs": [],
   "source": [
    "from scipy import stats"
   ]
  },
  {
   "cell_type": "code",
   "execution_count": 26,
   "id": "619d2131",
   "metadata": {},
   "outputs": [
    {
     "data": {
      "text/plain": [
       "(3.6635841716708892, 0.00024875321033580573)"
      ]
     },
     "execution_count": 26,
     "metadata": {},
     "output_type": "execute_result"
    }
   ],
   "source": [
    "t, p = stats.ttest_ind(mens, womens)\n",
    "t, p"
   ]
  },
  {
   "cell_type": "code",
   "execution_count": 27,
   "id": "3ff428f6",
   "metadata": {},
   "outputs": [
    {
     "data": {
      "image/png": "[encoded data removed]",
      "text/plain": [
       "<Figure size 432x288 with 1 Axes>"
      ]
     },
     "metadata": {
      "needs_background": "light"
     },
     "output_type": "display_data"
    }
   ],
   "source": [
    "plt.hist(mens, bins=120); \n",
    "plt.hist(womens, bins=120); "
   ]
  },
  {
   "cell_type": "markdown",
   "id": "10c4983c",
   "metadata": {},
   "source": [
    "3. Определите объем необходимой выборки для исследования среднего чека за кофе в случайном городе, если известно, что в этом городе стандартное отклонение = 150, уровень доверия = 95%. Погрешность 50 рублей.\n",
    "Задание № 3\n",
    "Определите объем необходимой выборки для исследования среднего чека за кофе в случайном городе если известно, что в этом городе:\n",
    "\n",
    "стандартное отклонение  𝜎=150 ;\n",
    "уровень доверия  𝛽  = 95%;\n",
    "Погрешность  Δ=50  рублей."
   ]
  },
  {
   "cell_type": "code",
   "execution_count": 33,
   "id": "d45066fc",
   "metadata": {},
   "outputs": [
    {
     "data": {
      "text/plain": [
       "0.975"
      ]
     },
     "execution_count": 33,
     "metadata": {},
     "output_type": "execute_result"
    }
   ],
   "source": [
    "z = 1-0.05/2\n",
    "z"
   ]
  },
  {
   "cell_type": "code",
   "execution_count": 37,
   "id": "6a535e18",
   "metadata": {},
   "outputs": [
    {
     "data": {
      "text/plain": [
       "9"
      ]
     },
     "execution_count": 37,
     "metadata": {},
     "output_type": "execute_result"
    }
   ],
   "source": [
    "n = round((z * 150 / 50)**2)\n",
    "n"
   ]
  },
  {
   "cell_type": "markdown",
   "id": "26d5472b",
   "metadata": {},
   "source": [
    "Задание № 4\n",
    "Представьте, что вы хотите разоблачить \"волшебника\" который считает, что умеет предсказывать погоду на завтра, отвечая просто: дождь или солнце. Вы пронаблюдали за ответами \"волшебника\" в течении какого-то периода времени и получили некие результаты (см.ниже).\n",
    "\n",
    "Можно ли сказать, что маг действительно умеет предсказывать погоду? Уровень значимости принять за 0.05 ( 𝛼=0.05 )."
   ]
  },
  {
   "cell_type": "code",
   "execution_count": 39,
   "id": "6e93307f",
   "metadata": {},
   "outputs": [
    {
     "data": {
      "text/html": [
       "<div>\n",
       "<style scoped>\n",
       "    .dataframe tbody tr th:only-of-type {\n",
       "        vertical-align: middle;\n",
       "    }\n",
       "\n",
       "    .dataframe tbody tr th {\n",
       "        vertical-align: top;\n",
       "    }\n",
       "\n",
       "    .dataframe thead th {\n",
       "        text-align: right;\n",
       "    }\n",
       "</style>\n",
       "<table border=\"1\" class=\"dataframe\">\n",
       "  <thead>\n",
       "    <tr style=\"text-align: right;\">\n",
       "      <th></th>\n",
       "      <th>Верные ответы волшебника</th>\n",
       "      <th>Неверные ответы</th>\n",
       "    </tr>\n",
       "  </thead>\n",
       "  <tbody>\n",
       "    <tr>\n",
       "      <th>Дождь</th>\n",
       "      <td>10</td>\n",
       "      <td>15</td>\n",
       "    </tr>\n",
       "    <tr>\n",
       "      <th>Солнце</th>\n",
       "      <td>39</td>\n",
       "      <td>34</td>\n",
       "    </tr>\n",
       "  </tbody>\n",
       "</table>\n",
       "</div>"
      ],
      "text/plain": [
       "        Верные ответы волшебника  Неверные ответы\n",
       "Дождь                         10               15\n",
       "Солнце                        39               34"
      ]
     },
     "execution_count": 39,
     "metadata": {},
     "output_type": "execute_result"
    }
   ],
   "source": [
    "observations = pd.DataFrame([[10, 15],[39, 34]],\n",
    "                            index=['Дождь','Солнце'],\n",
    "                            columns=['Верные ответы волшебника','Неверные ответы'])\n",
    "observations"
   ]
  },
  {
   "cell_type": "code",
   "execution_count": 41,
   "id": "a9347a93",
   "metadata": {},
   "outputs": [
    {
     "data": {
      "text/plain": [
       "(0.5811965811965812, 0.35417955365927367)"
      ]
     },
     "execution_count": 41,
     "metadata": {},
     "output_type": "execute_result"
    }
   ],
   "source": [
    "import scipy.stats as stats\n",
    "oddsratio, pvalue = stats.fisher_exact(observations)\n",
    "oddsratio, pvalue "
   ]
  },
  {
   "cell_type": "markdown",
   "id": "cbb15b32",
   "metadata": {},
   "source": [
    "p-value > 0.05 => он не умеет предсказывать"
   ]
  },
  {
   "cell_type": "markdown",
   "id": "98808c18",
   "metadata": {},
   "source": [
    "Задание № 5\n",
    "Используя функцию mean_confidence_interval(data, confidence), постройте доверительный интервал с уровнем доверия  𝛽=90%  для выборки:"
   ]
  },
  {
   "cell_type": "code",
   "execution_count": 43,
   "id": "f990f4f7",
   "metadata": {},
   "outputs": [],
   "source": [
    "data = [4,5,8,9,6,7,5,6,7,8,5,6,7,0,9,8,4,6,\n",
    "        7,9,8,6,5,7,8,9,6,7,5,8,6,7,9,5,10]"
   ]
  },
  {
   "cell_type": "code",
   "execution_count": 51,
   "id": "08ac1856",
   "metadata": {},
   "outputs": [],
   "source": [
    "def mean_confidence_interval(data, confidence=0.95):\n",
    "    a = 1.0 * np.array(data)\n",
    "    n = len(data)\n",
    "    m, se = np.mean(data), stats.sem(data)\n",
    "    h = se * stats.t.ppf((1 + confidence) / 2., n-1)\n",
    "    return m, m-h, m+h"
   ]
  },
  {
   "cell_type": "code",
   "execution_count": 53,
   "id": "3fbeff4b",
   "metadata": {},
   "outputs": [
    {
     "data": {
      "text/plain": [
       "(6.628571428571429, 6.07363110319857, 7.183511753944288)"
      ]
     },
     "execution_count": 53,
     "metadata": {},
     "output_type": "execute_result"
    }
   ],
   "source": [
    "mean_confidence_interval(data, confidence = 0.90)"
   ]
  },
  {
   "cell_type": "markdown",
   "id": "f1b768b9",
   "metadata": {},
   "source": [
    "Задание № 6\n",
    "Принадлежат ли выборки A и B одному множеству?\n",
    "\n",
    "Оцените это с помощью известных вам тестов для проверок статистических гипотез;\n",
    "Покажите различия визуально."
   ]
  },
  {
   "cell_type": "code",
   "execution_count": 55,
   "id": "5c963f34",
   "metadata": {},
   "outputs": [],
   "source": [
    "A = [4,5,8,9,6,7,5,6,7,6,8,5,6,7,8,4,\n",
    "    6,7,9,8,6,5,7,8,6,7,5,6,8,6,7,5,\n",
    "    4,5,8,9,6,7,5,6,7,6,8,5,6,7,8,4,\n",
    "    6,7,9,8,6,5,7,8,6,7,5,6,8,6,7,5,\n",
    "    4,5,8,9,6,7,5,6,7,6,8,5,6,7,8,4,\n",
    "    6,7,9,8,6,5,7,8,6,7,5,6,8,6,7,5,\n",
    "    4,5,8,9,6,7,5,6,7,6,8,5,6,7,8,4]\n",
    "\n",
    "B = [5,6,7,8,4,6,7,2,6,5,7,5,3,5,3,\n",
    "    5,3,5,5,8,7,6,4,5,3,5,4,6,4,5,3,\n",
    "    2,6,4,3,5,4,3,4,5,4,3,4,5,4,3,4,\n",
    "    2,6,4,3,5,4,3,4,5,4,3,4,5,4,3,4,\n",
    "    3,4,4,1,2,4,3,2,4,3,2,1,5,3,4,6,\n",
    "    3,2,4,5,6,4,3,3,5,3,4,4,4,2,5,3]\n",
    " "
   ]
  },
  {
   "cell_type": "code",
   "execution_count": 56,
   "id": "7d1c313b",
   "metadata": {},
   "outputs": [
    {
     "data": {
      "text/plain": [
       "(11.865233896372924, 4.623319592204015e-25)"
      ]
     },
     "execution_count": 56,
     "metadata": {},
     "output_type": "execute_result"
    }
   ],
   "source": [
    "t, p = stats.ttest_ind(A, B)\n",
    "t, p"
   ]
  },
  {
   "cell_type": "code",
   "execution_count": 58,
   "id": "1544a97e",
   "metadata": {},
   "outputs": [
    {
     "data": {
      "image/png": "[encoded data removed]",
      "text/plain": [
       "<Figure size 432x288 with 1 Axes>"
      ]
     },
     "metadata": {
      "needs_background": "light"
     },
     "output_type": "display_data"
    }
   ],
   "source": [
    "plt.hist(A, bins=30); \n",
    "plt.hist(B, bins=30); "
   ]
  },
  {
   "cell_type": "code",
   "execution_count": 68,
   "id": "6cbcc8ad",
   "metadata": {},
   "outputs": [
    {
     "data": {
      "image/png": "[encoded data removed]",
      "text/plain": [
       "<Figure size 432x288 with 1 Axes>"
      ]
     },
     "metadata": {
      "needs_background": "light"
     },
     "output_type": "display_data"
    }
   ],
   "source": [
    "plt.boxplot(A);\n",
    "plt.boxplot(B);"
   ]
  },
  {
   "cell_type": "markdown",
   "id": "fa61d1af",
   "metadata": {},
   "source": [
    "не принадлежат"
   ]
  },
  {
   "cell_type": "markdown",
   "id": "d71cfe6f",
   "metadata": {},
   "source": [
    "Задание № 7 (задание без подвоха)\n",
    "На примере датасета про жилье в New York City, мы сталкивались с примером, когда переменная имеет не совсем нормальное распределение.\n",
    "\n",
    "Предположим, Вы сформировали две гипотезы:\n",
    "нулевая гипотеза - распределение нормальное;\n",
    "альтернативная гипотеза - распределение ненормальное.\n",
    "допустим, вы применили какой-то тест (сейчас неважно какой), который показал уровень значимости p-value = 0.03. Каковы будут ваши выводы? Будем считать что у нас нормальное распределение или все-таки нет?)"
   ]
  },
  {
   "cell_type": "markdown",
   "id": "92ff2cf2",
   "metadata": {},
   "source": [
    "смотря, какой доверительный интервал мы допускаем. с чем сравнить p-value?"
   ]
  },
  {
   "cell_type": "markdown",
   "id": "cbe9bac5",
   "metadata": {},
   "source": [
    "Задание № 8\n",
    "Первая выборка — это пациенты, которых лечили препаратом А. Вторая выборка — пациенты, которых лечили препаратом B.\n",
    "\n",
    "Значения в выборках — это некоторая характеристика эффективности лечения (уровень метаболита в крови, температура через три дня после начала лечения, срок выздоровления, число койко-дней, и т.д.)\n",
    "\n",
    "Требуется выяснить, имеется ли значимое различие эффективности препаратов А и B, или различия являются чисто случайными и объясняются «естественной» дисперсией выбранной характеристики? (уровень значимости принять за 0.05 (5%))\n",
    "\n",
    "При каком минимальном p-value различия были бы уже значимы?\n",
    "\n",
    "Если выборки незначительно отличаются, то продемонстрируйте это визуально"
   ]
  },
  {
   "cell_type": "code",
   "execution_count": 79,
   "id": "76548c95",
   "metadata": {},
   "outputs": [],
   "source": [
    "np.random.seed(11)\n",
    "A = stats.norm.rvs(scale=15, loc=169, size=300)\n",
    "B = stats.norm.rvs(scale=14, loc=171.4, size=300)"
   ]
  },
  {
   "cell_type": "code",
   "execution_count": 80,
   "id": "b337ec3a",
   "metadata": {},
   "outputs": [
    {
     "data": {
      "text/plain": [
       "(-1.95300880485141, 0.051284593140469285)"
      ]
     },
     "execution_count": 80,
     "metadata": {},
     "output_type": "execute_result"
    }
   ],
   "source": [
    "t, p = stats.ttest_ind(A, B)\n",
    "t, p"
   ]
  },
  {
   "cell_type": "markdown",
   "id": "79ea7837",
   "metadata": {},
   "source": [
    "p-value > 0.05 =>  не имеется значимое различие эффективности препаратов А и B"
   ]
  },
  {
   "cell_type": "code",
   "execution_count": 75,
   "id": "550d0b55",
   "metadata": {},
   "outputs": [
    {
     "data": {
      "image/png": "[encoded data removed]",
      "text/plain": [
       "<Figure size 432x288 with 1 Axes>"
      ]
     },
     "metadata": {
      "needs_background": "light"
     },
     "output_type": "display_data"
    }
   ],
   "source": [
    "plt.hist(A, bins=30); \n",
    "plt.hist(B, bins=30); "
   ]
  }
 ],
 "metadata": {
  "kernelspec": {
   "display_name": "Python 3",
   "language": "python",
   "name": "python3"
  },
  "language_info": {
   "codemirror_mode": {
    "name": "ipython",
    "version": 3
   },
   "file_extension": ".py",
   "mimetype": "text/x-python",
   "name": "python",
   "nbconvert_exporter": "python",
   "pygments_lexer": "ipython3",
   "version": "3.8.8"
  }
 },
 "nbformat": 4,
 "nbformat_minor": 5
}
