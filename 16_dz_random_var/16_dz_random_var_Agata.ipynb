{
 "cells": [
  {
   "cell_type": "markdown",
   "id": "2bf442c7",
   "metadata": {},
   "source": [
    "Смоделировать игру против лотерейного автомата типа “777”. Игрок платит 1 руб., после чего выпадает случайное целое число, равномерно распределенное от 0 до 999. При некоторых значениях числа игрок получает выигрыш.\n",
    "\n",
    "777: 200 руб.\n",
    "999: 100 руб.\n",
    "555: 50 руб.\n",
    "333: 15 руб.\n",
    "111: 10 руб.\n",
    "*77: 5 руб.\n",
    "**7: 3 руб.\n",
    "*00: 2 руб.\n",
    "**0: 1 руб.\n",
    "\n",
    "Вопросы:\n",
    "\n",
    "Выгодна ли игра игроку?\n",
    "Сколько в среднем приобретает или теряет игрок за одну игру?\n",
    "**Дополнительное задание повышенной сложности. **\n",
    "\n",
    "Теоретически рассчитать средний выигрыш (проигрыш) и сравнить с результатами моделирования\n",
    "\n",
    "– любая цифра"
   ]
  },
  {
   "cell_type": "code",
   "execution_count": 5,
   "id": "20fdc705",
   "metadata": {},
   "outputs": [],
   "source": [
    "import numpy as np"
   ]
  },
  {
   "cell_type": "code",
   "execution_count": 68,
   "id": "ec4c52e3",
   "metadata": {},
   "outputs": [],
   "source": [
    "balance = 0\n",
    "trials = 100000"
   ]
  },
  {
   "cell_type": "code",
   "execution_count": 69,
   "id": "290cd9f5",
   "metadata": {},
   "outputs": [
    {
     "data": {
      "text/plain": [
       "-569772"
      ]
     },
     "execution_count": 69,
     "metadata": {},
     "output_type": "execute_result"
    }
   ],
   "source": [
    "for i in range(trials):\n",
    "    balance-=1\n",
    "    random_num = np.random.randint(0, 1000)\n",
    "    if random_num == '777':\n",
    "        balance+=200\n",
    "    elif random_num == '999':\n",
    "        balance+=100\n",
    "    elif random_num == '555':\n",
    "        balance+=50 \n",
    "    elif random_num == '333':\n",
    "        balance+=15\n",
    "    elif random_num == '111':\n",
    "        balance+=10\n",
    "    elif random_num % 100 == 77:\n",
    "        balance+=5\n",
    "    elif random_num % 10 == 7:\n",
    "        balance+=3\n",
    "    elif random_num % 100 == 0:\n",
    "        balance+=2 \n",
    "    elif random_num % 10 == 0:\n",
    "        balance+=1     \n",
    "        \n",
    "balance    \n",
    " "
   ]
  },
  {
   "cell_type": "code",
   "execution_count": 70,
   "id": "8065dc0b",
   "metadata": {},
   "outputs": [
    {
     "data": {
      "text/plain": [
       "-0.569772"
      ]
     },
     "execution_count": 70,
     "metadata": {},
     "output_type": "execute_result"
    }
   ],
   "source": [
    "balance_avg = balance / trials\n",
    "balance_avg"
   ]
  },
  {
   "cell_type": "markdown",
   "id": "528ea9dc",
   "metadata": {},
   "source": [
    "Теоретически рассчитать средний выигрыш (проигрыш) и сравнить с результатами моделирования"
   ]
  },
  {
   "cell_type": "code",
   "execution_count": 67,
   "id": "aeec143d",
   "metadata": {},
   "outputs": [
    {
     "data": {
      "text/plain": [
       "-0.6059999999999999"
      ]
     },
     "execution_count": 67,
     "metadata": {},
     "output_type": "execute_result"
    }
   ],
   "source": [
    "p = (0.001*199 + 0.001*99 + 0.001*49 + 0.001*14 + 0.001*9 + 0.009*4 + 0.9*2 + 0.01*1 + 0.9*0) + (-1)*(1 - 0.001 + 0.001 + 0.001 + 0.001 + 0.001 + 0.009 + 0.9 + 0.01 + 0.9)\n",
    "p"
   ]
  },
  {
   "cell_type": "code",
   "execution_count": 58,
   "id": "2114a30d",
   "metadata": {},
   "outputs": [
    {
     "data": {
      "text/plain": [
       "100"
      ]
     },
     "execution_count": 58,
     "metadata": {},
     "output_type": "execute_result"
    }
   ],
   "source": [
    "count = 0\n",
    "for i in range(1000):\n",
    "    if i % 10 == 7:\n",
    "        count+=1\n",
    "count"
   ]
  },
  {
   "cell_type": "code",
   "execution_count": null,
   "id": "62fc9144",
   "metadata": {},
   "outputs": [],
   "source": []
  },
  {
   "cell_type": "code",
   "execution_count": null,
   "id": "3adce710",
   "metadata": {},
   "outputs": [],
   "source": []
  }
 ],
 "metadata": {
  "kernelspec": {
   "display_name": "Python 3",
   "language": "python",
   "name": "python3"
  },
  "language_info": {
   "codemirror_mode": {
    "name": "ipython",
    "version": 3
   },
   "file_extension": ".py",
   "mimetype": "text/x-python",
   "name": "python",
   "nbconvert_exporter": "python",
   "pygments_lexer": "ipython3",
   "version": "3.8.8"
  }
 },
 "nbformat": 4,
 "nbformat_minor": 5
}
