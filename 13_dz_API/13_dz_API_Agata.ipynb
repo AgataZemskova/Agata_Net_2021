{
 "cells": [
  {
   "cell_type": "markdown",
   "id": "d8b38254",
   "metadata": {},
   "source": [
    "Задание 1.\n",
    "Обязательная часть\n",
    "Будем парсить страницу со свежеми новостям на habr.com/ru/all/.\n",
    "\n",
    "Вам необходимо собирать только те статьи, в которых встречается хотя бы одно требуемое ключевое слово. Эти слова определяем в начале кода в переменной, например:\n",
    "\n",
    "KEYWORDS = ['python', 'парсинг']\n",
    "\n",
    "Поиск вести по всей доступной preview-информации (это информация, доступная непосредственно с текущей страницы).\n",
    "\n",
    "В итоге должен формироваться датафрейм вида: <дата> - <заголовок> - <ссылка>\n",
    "\n",
    "Дополнительная часть (необязательная)\n",
    "Улучшить скрипт так, чтобы он анализировал не только preview-информацию статьи, но и весь текст статьи целиком.\n",
    "\n",
    "Для этого потребуется получать страницы статей и искать по тексту внутри этой страницы.\n",
    "\n",
    "Итоговый датафрейм формировать со столбцами: <дата> - <заголовок> - <ссылка> - <текст_статьи>"
   ]
  },
  {
   "cell_type": "code",
   "execution_count": 86,
   "id": "f43a4fa7",
   "metadata": {},
   "outputs": [],
   "source": [
    "import pandas as pd"
   ]
  },
  {
   "cell_type": "code",
   "execution_count": 87,
   "id": "7c3a7894",
   "metadata": {},
   "outputs": [],
   "source": [
    "import requests"
   ]
  },
  {
   "cell_type": "code",
   "execution_count": 88,
   "id": "a8551624",
   "metadata": {},
   "outputs": [],
   "source": [
    "from bs4 import BeautifulSoup"
   ]
  },
  {
   "cell_type": "code",
   "execution_count": 89,
   "id": "0e024a50",
   "metadata": {},
   "outputs": [],
   "source": [
    "import time\n",
    "time.sleep(0.2)"
   ]
  },
  {
   "cell_type": "code",
   "execution_count": 90,
   "id": "d47b6b37",
   "metadata": {},
   "outputs": [],
   "source": [
    "KEYWORDS = ['python', 'парсинг']"
   ]
  },
  {
   "cell_type": "code",
   "execution_count": 102,
   "id": "5d47641d",
   "metadata": {},
   "outputs": [],
   "source": [
    "URL = 'https://habr.com/ru/search/'\n",
    "params = {\n",
    "    'search': KEYWORDS\n",
    "}"
   ]
  },
  {
   "cell_type": "code",
   "execution_count": 103,
   "id": "de293bff",
   "metadata": {},
   "outputs": [],
   "source": [
    "res = requests.get(URL, params)\n",
    "time.sleep(0.3)"
   ]
  },
  {
   "cell_type": "code",
   "execution_count": 104,
   "id": "32a74cb6",
   "metadata": {},
   "outputs": [
    {
     "data": {
      "text/plain": [
       "'<!DOCTYPE html>\\n<html lang=\"ru\" data-vue-meta=\"%7B%22lang%22:%7B%22ssr%22:%22ru%22%7D%7D\">\\n<head >\\n  <meta charset=\"UTF-8\">\\n  <meta name=\"viewport\" content=\"width=device-width,initial-scale=1.0,viewport-fit=cover\">\\n  <title>Результаты поиска по запросу «» / Хабр</title>\\n  <style>\\n    /* cyrillic-ext */\\n    @font-face {\\n      font-family: \\'Fira Sans\\';\\n      font-style: normal;\\n      font-weight: 500;\\n      font-display: swap;\\n      src: url(https://fonts.gstatic.com/s/firasans/v11/va9B4kDNxMZdWfMOD5VnZKveSxf6TF0.woff2) format(\\'woff2\\');\\n      unicode-range: U+0460-052F, U+1C80-1C88, U+20B4, U+2DE0-2DFF, U+A640-A69F, U+FE2E-FE2F;\\n    }\\n\\n    /* cyrillic */\\n    @font-face {\\n      font-family: \\'Fira Sans\\';\\n      font-style: normal;\\n      font-weight: 500;\\n      font-display: swap;\\n      src: url(https://fonts.gstatic.com/s/firasans/v11/va9B4kDNxMZdWfMOD5VnZKveQhf6TF0.woff2) format(\\'woff2\\');\\n      unicode-range: U+0400-045F, U+0490-0491, U+04B0-04B1, U+2116;\\n    }\\n\\n    /* latin-ext */\\n    @font-face {\\n      font-family: \\'Fira Sans\\';\\n      font-style: normal;\\n      font-weight: 500;\\n      font-display: swap;\\n      src: url(https://fonts.gstatic.com/s/firasans/v11/va9B4kDNxMZdWfMOD5VnZKveSBf6TF0.woff2) format(\\'woff2\\');\\n      unicode-range: U+0100-024F, U+0259, U+1E00-1EFF, U+2020, U+20A0-20AB, U+20AD-20CF, U+2113, U+2C60-2C7F, U+A720-A7FF;\\n    }\\n\\n    /* latin */\\n    @font-face {\\n      font-family: \\'Fira Sans\\';\\n      font-style: normal;\\n      font-weight: 500;\\n      font-display: swap;\\n      src: url(https://fonts.gstatic.com/s/firasans/v11/va9B4kDNxMZdWfMOD5VnZKveRhf6.woff2) format(\\'woff2\\');\\n      unicode-range: U+0000-00FF, U+0131, U+0152-0153, U+02BB-02BC, U+02C6, U+02DA, U+02DC, U+2000-206F, U+2074, U+20AC, U+2122, U+2191, U+2193, U+2212, U+2215, U+FEFF, U+FFFD;\\n    }\\n  </style>\\n  <link rel=\"preload\" href=\"https://assets.habr.com/habr-web/css/chunk-vendors.db52f5c6.css\" as=\"style\"><link rel=\"preload\" href=\"https://assets.habr.com/habr-web/js/chunk-vendors.babbc823.js\" as=\"script\"><link rel=\"preload\" href=\"https://assets.habr.com/habr-web/css/app.e8c4ce8a.css\" as=\"style\"><link rel=\"preload\" href=\"https://assets.habr.com/habr-web/js/app.2108fbd0.js\" as=\"script\"><link rel=\"preload\" href=\"https://assets.habr.com/habr-web/css/search.9a0d81c7.css\" as=\"style\"><link rel=\"preload\" href=\"https://assets.habr.com/habr-web/js/search.8ea8b703.js\" as=\"script\">\\n  <link rel=\"stylesheet\" href=\"https://assets.habr.com/habr-web/css/chunk-vendors.db52f5c6.css\"><link rel=\"stylesheet\" href=\"https://assets.habr.com/habr-web/css/app.e8c4ce8a.css\"><link rel=\"stylesheet\" href=\"https://assets.habr.com/habr-web/css/search.9a0d81c7.css\">\\n  <script>window.i18nFetch = new Promise((res, rej) => {\\n          const xhr = new XMLHttpRequest();\\n          xhr.open(\\'GET\\', \\'/js/i18n/ru-compiled.65b7101f549f1d42acffdfffecec97cf.json\\');\\n          xhr.responseType = \\'json\\';\\n          xhr.onload = function(e) {\\n            if (this.status === 200) {\\n              res({ru: xhr.response});\\n            } else {\\n              rej(e);\\n            }\\n          };\\n          xhr.send();\\n        });</script>\\n  \\n  <script data-vue-meta=\"ssr\" src=\"/js/ads.js\" onload=\"window[\\'zhY4i4nJ9K\\'] = true\" data-vmid=\"checkad\"></script>\\n  <script src=\"//www.googletagservices.com/tag/js/gpt.js\" async></script>\\n  <style>.grecaptcha-badge{visibility: hidden;}</style>\\n  <meta name=\"habr-version\" content=\"2.39.1\">\\n  \\n  <meta data-vue-meta=\"ssr\" itemprop=\"image\" content=\"/img/habr_en.png\" data-vmid=\"image:itemprop\"><meta data-vue-meta=\"ssr\" property=\"og:image\" content=\"/img/habr_en.png\" data-vmid=\"og:image\"><meta data-vue-meta=\"ssr\" property=\"aiturec:image\" content=\"/img/habr_en.png\" data-vmid=\"aiturec:image\"><meta data-vue-meta=\"ssr\" name=\"twitter:image\" content=\"/img/habr_en.png\" data-vmid=\"twitter:image\"><meta data-vue-meta=\"ssr\" property=\"vk:image\" content=\"/img/habr_en.png\" data-vmid=\"vk:image\"><meta data-vue-meta=\"ssr\" property=\"fb:app_id\" content=\"444736788986613\"><meta data-vue-meta=\"ssr\" property=\"fb:pages\" content=\"472597926099084\"><meta data-vue-meta=\"ssr\" name=\"twitter:card\" content=\"summary_large_image\"><meta data-vue-meta=\"ssr\" name=\"twitter:site\" content=\"@habr_eng\"><meta data-vue-meta=\"ssr\" property=\"og:locale\" content=\"ru_RU\" data-vmid=\"og:locale\"><meta data-vue-meta=\"ssr\" property=\"og:type\" content=\"website\" data-vmid=\"og:type\">\\n  <link data-vue-meta=\"ssr\" image_src=\"image\" href=\"/img/habr_en.png\" data-vmid=\"image:href\"><link data-vue-meta=\"ssr\" href=\"https://habr.com/ru/search/\" rel=\"canonical\" data-vmid=\"canonical\"><link data-vue-meta=\"ssr\" href=\"https://habr.com/ru/search/\" hreflang=\"ru\" rel=\"alternate\" data-vmid=\"hreflang\"><link data-vue-meta=\"ssr\" href=\"https://habr.com/en/search/?search=python&amp;search=%D0%BF%D0%B0%D1%80%D1%81%D0%B8%D0%BD%D0%B3\" hreflang=\"en\" rel=\"alternate\" data-vmid=\"hreflang\"><link data-vue-meta=\"ssr\" href=\"https://habr.com/ru/rss/search/?q=undefined++++++++&amp;order_by=undefined++++++++&amp;target_type=undefined++++++++&amp;hl=ru++++++++&amp;fl=ru&amp;fl=ru\" type=\"application/rss+xml\" title=\"\" rel=\"alternate\" name=\"rss\">\\n  <meta name=\"apple-mobile-web-app-status-bar-style\" content=\"#303b44\">\\n  <meta name=\"msapplication-TileColor\" content=\"#629FBC\">\\n  <meta name=\"apple-mobile-web-app-capable\" content=\"yes\">\\n  <meta name=\"mobile-web-app-capable\" content=\"yes\">\\n  <link\\n    rel=\"shortcut icon\"\\n    type=\"image/png\"\\n    sizes=\"16x16\"\\n    href=\"https://assets.habr.com/habr-web/img/favicons/favicon-16.png\"\\n  >\\n  <link\\n    rel=\"shortcut icon\"\\n    type=\"image/png\"\\n    sizes=\"32x32\"\\n    href=\"https://assets.habr.com/habr-web/img/favicons/favicon-32.png\"\\n  >\\n  <link\\n    rel=\"apple-touch-icon\"\\n    type=\"image/png\"\\n    sizes=\"76x76\"\\n    href=\"https://assets.habr.com/habr-web/img/favicons/apple-touch-icon-76.png\"\\n  >\\n  <link\\n    rel=\"apple-touch-icon\"\\n    type=\"image/png\"\\n    sizes=\"120x120\"\\n    href=\"https://assets.habr.com/habr-web/img/favicons/apple-touch-icon-120.png\"\\n  >\\n  <link\\n    rel=\"apple-touch-icon\"\\n    type=\"image/png\"\\n    sizes=\"152x152\"\\n    href=\"https://assets.habr.com/habr-web/img/favicons/apple-touch-icon-152.png\"\\n  >\\n  <link\\n    rel=\"apple-touch-icon\"\\n    type=\"image/png\"\\n    sizes=\"180x180\"\\n    href=\"https://assets.habr.com/habr-web/img/favicons/apple-touch-icon-180.png\"\\n  >\\n  <link\\n    rel=\"apple-touch-icon\"\\n    type=\"image/png\"\\n    sizes=\"256x256\"\\n    href=\"https://assets.habr.com/habr-web/img/favicons/apple-touch-icon-256.png\"\\n  >\\n  <link\\n    rel=\"apple-touch-startup-image\"\\n    media=\"screen and (device-width: 320px) and (device-height: 568px) and (-webkit-device-pixel-ratio: 2) and (orientation: landscape)\"\\n    href=\"https://assets.habr.com/habr-web/img/splashes/splash_1136x640.png\"\\n  >\\n  <link\\n    rel=\"apple-touch-startup-image\"\\n    media=\"screen and (device-width: 375px) and (device-height: 812px) and (-webkit-device-pixel-ratio: 3) and (orientation: landscape)\"\\n    href=\"https://assets.habr.com/habr-web/img/splashes/splash_2436x1125.png\"\\n  >\\n  <link\\n    rel=\"apple-touch-startup-image\"\\n    media=\"screen and (device-width: 414px) and (device-height: 896px) and (-webkit-device-pixel-ratio: 2) and (orientation: landscape)\"\\n    href=\"https://assets.habr.com/habr-web/img/splashes/splash_1792x828.png\"\\n  >\\n  <link\\n    rel=\"apple-touch-startup-image\"\\n    media=\"screen and (device-width: 414px) and (device-height: 896px) and (-webkit-device-pixel-ratio: 2) and (orientation: portrait)\"\\n    href=\"https://assets.habr.com/habr-web/img/splashes/splash_828x1792.png\"\\n  >\\n  <link\\n    rel=\"apple-touch-startup-image\"\\n    media=\"screen and (device-width: 375px) and (device-height: 667px) and (-webkit-device-pixel-ratio: 2) and (orientation: landscape)\"\\n    href=\"https://assets.habr.com/habr-web/img/splashes/splash_1334x750.png\"\\n  >\\n  <link\\n    rel=\"apple-touch-startup-image\"\\n    media=\"screen and (device-width: 414px) and (device-height: 896px) and (-webkit-device-pixel-ratio: 3) and (orientation: portrait)\"\\n    href=\"https://assets.habr.com/habr-web/img/splashes/splash_1242x2668.png\"\\n  >\\n  <link\\n    rel=\"apple-touch-startup-image\"\\n    media=\"screen and (device-width: 414px) and (device-height: 736px) and (-webkit-device-pixel-ratio: 3) and (orientation: landscape)\"\\n    href=\"https://assets.habr.com/habr-web/img/splashes/splash_2208x1242.png\"\\n  >\\n  <link\\n    rel=\"apple-touch-startup-image\"\\n    media=\"screen and (device-width: 375px) and (device-height: 812px) and (-webkit-device-pixel-ratio: 3) and (orientation: portrait)\"\\n    href=\"https://assets.habr.com/habr-web/img/splashes/splash_1125x2436.png\"\\n  >\\n  <link\\n    rel=\"apple-touch-startup-image\"\\n    media=\"screen and (device-width: 414px) and (device-height: 736px) and (-webkit-device-pixel-ratio: 3) and (orientation: portrait)\"\\n    href=\"https://assets.habr.com/habr-web/img/splashes/splash_1242x2208.png\"\\n  >\\n  <link\\n    rel=\"apple-touch-startup-image\"\\n    media=\"screen and (device-width: 1024px) and (device-height: 1366px) and (-webkit-device-pixel-ratio: 2) and (orientation: landscape)\"\\n    href=\"https://assets.habr.com/habr-web/img/splashes/splash_2732x2048.png\"\\n  >\\n  <link\\n    rel=\"apple-touch-startup-image\"\\n    media=\"screen and (device-width: 414px) and (device-height: 896px) and (-webkit-device-pixel-ratio: 3) and (orientation: landscape)\"\\n    href=\"https://assets.habr.com/habr-web/img/splashes/splash_2688x1242.png\"\\n  >\\n  <link\\n    rel=\"apple-touch-startup-image\"\\n    media=\"screen and (device-width: 834px) and (device-height: 1112px) and (-webkit-device-pixel-ratio: 2) and (orientation: landscape)\"\\n    href=\"https://assets.habr.com/habr-web/img/splashes/splash_2224x1668.png\"\\n  >\\n  <link\\n    rel=\"apple-touch-startup-image\"\\n    media=\"screen and (device-width: 375px) and (device-height: 667px) and (-webkit-device-pixel-ratio: 2) and (orientation: portrait)\"\\n    href=\"https://assets.habr.com/habr-web/img/splashes/splash_750x1334.png\"\\n  >\\n  <link\\n    rel=\"apple-touch-startup-image\"\\n    media=\"screen and (device-width: 1024px) and (device-height: 1366px) and (-webkit-device-pixel-ratio: 2) and (orientation: portrait)\"\\n    href=\"https://assets.habr.com/habr-web/img/splashes/splash_2048x2732.png\"\\n  >\\n  <link\\n    rel=\"apple-touch-startup-image\"\\n    media=\"screen and (device-width: 834px) and (device-height: 1194px) and (-webkit-device-pixel-ratio: 2) and (orientation: landscape)\"\\n    href=\"https://assets.habr.com/habr-web/img/splashes/splash_2388x1668.png\"\\n  >\\n  <link\\n    rel=\"apple-touch-startup-image\"\\n    media=\"screen and (device-width: 834px) and (device-height: 1112px) and (-webkit-device-pixel-ratio: 2) and (orientation: portrait)\"\\n    href=\"https://assets.habr.com/habr-web/img/splashes/splash_1668x2224.png\"\\n  >\\n  <link\\n    rel=\"apple-touch-startup-image\"\\n    media=\"screen and (device-width: 320px) and (device-height: 568px) and (-webkit-device-pixel-ratio: 2) and (orientation: portrait)\"\\n    href=\"https://assets.habr.com/habr-web/img/splashes/splash_640x1136.png\"\\n  >\\n  <link\\n    rel=\"apple-touch-startup-image\"\\n    media=\"screen and (device-width: 834px) and (device-height: 1194px) and (-webkit-device-pixel-ratio: 2) and (orientation: portrait)\"\\n    href=\"https://assets.habr.com/habr-web/img/splashes/splash_1668x2388.png\"\\n  >\\n  <link\\n    rel=\"apple-touch-startup-image\"\\n    media=\"screen and (device-width: 768px) and (device-height: 1024px) and (-webkit-device-pixel-ratio: 2) and (orientation: landscape)\"\\n    href=\"https://assets.habr.com/habr-web/img/splashes/splash_2048x1536.png\"\\n  >\\n  <link\\n    rel=\"apple-touch-startup-image\"\\n    media=\"screen and (device-width: 768px) and (device-height: 1024px) and (-webkit-device-pixel-ratio: 2) and (orientation: portrait)\"\\n    href=\"https://assets.habr.com/habr-web/img/splashes/splash_1536x2048.png\"\\n  >\\n  <link\\n    rel=\"mask-icon\"\\n    color=\"#77a2b6\"\\n    href=\"https://assets.habr.com/habr-web/img/favicons/apple-touch-icon-120.svg\"\\n  >\\n  <link\\n    crossorigin=\"use-credentials\"\\n    href=\"/manifest.webmanifest\"\\n    rel=\"manifest\"\\n  >\\n</head>\\n<body>\\n\\n\\n<div id=\"app\" data-server-rendered=\"true\" data-async-called=\"true\"><div class=\"tm-layout__wrapper\"><!----><div></div><!----><header class=\"tm-header\"><div class=\"tm-page-width\"><div class=\"tm-header__container\"><!----><span class=\"tm-header__logo-wrap\"><a href=\"/ru/\" class=\"tm-header__logo tm-header__logo_ru\"><svg height=\"16\" width=\"16\" class=\"tm-svg-img tm-header__icon\"><title>Хабр</title><use xlink:href=\"/img/habr-logo-ru.svg#logo\"></use></svg></a><span class=\"tm-header__beta-sign\" style=\"display:none;\">β</span></span><div class=\"tm-dropdown tm-header__projects\"><div class=\"tm-dropdown__head\"><button class=\"tm-header__dropdown-toggle\"><svg height=\"16\" width=\"16\" class=\"tm-svg-img tm-header__icon tm-header__icon_dropdown\"><title>Открыть список</title><use xlink:href=\"/img/megazord-v24.4c3730a5.svg#arrow-down\"></use></svg></button></div><!----></div><a href=\"/ru/sandbox/start/\" class=\"tm-header__become-author-btn\">\\n              Как стать автором\\n            </a><div class=\"tm-feature tm-header__feature tm-feature_variant-inline\"><!----></div><!----><!----></div></div></header><div class=\"tm-layout\"><div class=\"tm-page-progress-bar\"></div><div data-menu-sticky=\"true\" class=\"tm-base-layout__header tm-base-layout__header_is-sticky\"><div class=\"tm-page-width\"><div class=\"tm-base-layout__header-wrapper\"><div class=\"tm-main-menu\"><div class=\"tm-main-menu__section\"><nav class=\"tm-main-menu__section-content\"><!----><a href=\"/ru/all/\" class=\"tm-main-menu__item\">\\n        Все потоки\\n      </a><a href=\"/ru/flows/develop/\" class=\"tm-main-menu__item\">\\n          Разработка\\n        </a><a href=\"/ru/flows/admin/\" class=\"tm-main-menu__item\">\\n          Администрирование\\n        </a><a href=\"/ru/flows/design/\" class=\"tm-main-menu__item\">\\n          Дизайн\\n        </a><a href=\"/ru/flows/management/\" class=\"tm-main-menu__item\">\\n          Менеджмент\\n        </a><a href=\"/ru/flows/marketing/\" class=\"tm-main-menu__item\">\\n          Маркетинг\\n        </a><a href=\"/ru/flows/popsci/\" class=\"tm-main-menu__item\">\\n          Научпоп\\n        </a></nav></div></div><div class=\"tm-header-user-menu tm-base-layout__user-menu\"><a href=\"/ru/search/\" class=\"tm-header-user-menu__item tm-header-user-menu__search router-link-active\"><svg height=\"24\" width=\"24\" class=\"tm-svg-img tm-header-user-menu__icon tm-header-user-menu__icon_search tm-header-user-menu__icon_dark\"><title>Поиск</title><use xlink:href=\"/img/megazord-v24.4c3730a5.svg#search\"></use></svg></a><!----><!----><!----><div class=\"tm-header-user-menu__item tm-header-user-menu__user_desktop\"><div class=\"tm-dropdown\"><div class=\"tm-dropdown__head\"><svg height=\"24\" width=\"24\" data-test-id=\"menu-toggle-guest\" class=\"tm-svg-img tm-header-user-menu__icon\"><title>Профиль</title><use xlink:href=\"/img/megazord-v24.4c3730a5.svg#header-user\"></use></svg><!----></div><!----></div><!----></div><!----></div></div></div></div><!----><div class=\"tm-page-width\"></div><main class=\"tm-layout__container\"><div data-async-called=\"true\" class=\"tm-page\"><div class=\"tm-page-width\"><!----><div class=\"tm-page__wrapper\"><div class=\"tm-page__main tm-page__main_has-sidebar\"><div class=\"pull-down\"><div class=\"pull-down__header\" style=\"height:0px;\"><div class=\"pull-down__content\" style=\"bottom:10px;\"><svg height=\"24\" width=\"24\" class=\"tm-svg-img pull-down__arrow\"><title>Обновить</title><use xlink:href=\"/img/megazord-v24.4c3730a5.svg#pull-arrow\"></use></svg></div></div><div class=\"tm-page__top\"><form action=\"/ru/search/\" method=\"GET\" class=\"tm-search\"><div autofocus=\"autofocus\" name=\"q\" placeholder=\"Поиск\" class=\"tm-input-text-decorated tm-search__input tm-input-text-decorated_has-label-after\"><!----><input autofocus=\"autofocus\" name=\"q\" placeholder=\"Поиск\" value=\"\" class=\"tm-input-text-decorated__input\"><div class=\"tm-input-text-decorated__label tm-input-text-decorated__label_after\"><span class=\"tm-svg-icon__wrapper tm-search__icon\"><svg height=\"16\" width=\"16\" class=\"tm-svg-img tm-svg-icon\"><title>Поиск</title><use xlink:href=\"/img/megazord-v24.4c3730a5.svg#search\"></use></svg></span></div></div><input name=\"target_type\" type=\"hidden\" value=\"posts\"><input hidden=\"hidden\" type=\"submit\"></form><!----></div><section class=\"tm-block tm-articles-list__promo-block tm-block_spacing-bottom\"><header class=\"tm-block__header\"><h2 class=\"tm-block__title\">Минуточку внимания</h2><div class=\"tm-block__header-aside\"><a href=\"https://tmtm.ru/megapost/\" target=\"_blank\" class=\"tm-block-extralink\">\\n      Разместить\\n    </a></div></header><div class=\"tm-block__body\"><div pagination=\"\" slides-per-view=\"1\" class=\"tm-promo-block__content-wrapper\"><div class=\"tm-promo-block__item-wrapper\"><a href=\"https://effect.habr.com/s/LlOkTchMQjmDOlT0EVIw8g.GdyFf3M2L3I5m0tS7rhwMeu8eqe0eG16N8ImqvnUWn78eHPmfzarF3oa9WOKKynAnNDbSB0TyUBz6TayRXXliqaEre8U-PLpPJS9HfdBkxw\" rel=\"nofollow \" class=\"tm-promo-block__item tm-article-title__link\"><header class=\"tm-promo-block__head\"><div class=\"tm-promo-block__image-wrapper\"><img alt=\"\" src=\"https://effect.habr.com/s/nVpVBMNUkV7KgIrhtDfE5g.K0GHiEFET1y4NEnilK1jQSbk_8E3YHnaPhRryjhlW2pCStYRJAe_KMtALhHCz-dy0KqFTCIO74bqYdFo-H8G-mYOCAeTUMdSd-2eOD2adsVecDFL-9n8HDLI5yvJMTXRsd1-McekOswmyAtnZQm9P8j8lqewoeb575kqcXiIbjhJyGcLrnSueUIA0TNZiG11\" class=\"tm-promo-block__image\"></div><div class=\"tm-promo-block__label\">\\n              Мегапост\\n              <!----></div></header><div class=\"tm-promo-block__info\"><h3 class=\"tm-promo-block__title\">Сколько платили айтишникам в первой половине 2021</h3></div></a></div><div class=\"tm-promo-block__item-wrapper\"><a href=\"https://effect.habr.com/s/eBk7Ry0rByWvA9SNtp8p_g.ZoVbDrrhrWJBtyxRI3U2TLIMqoEeni3TDckai__M927PaQsfXaI7mnK4CeXhahhqc0902bnKfUSuUK7rk6F57kImTkahUiknAEaO5u5oFQE\" rel=\"nofollow \" class=\"tm-promo-block__item tm-article-title__link\"><header class=\"tm-promo-block__head\"><div class=\"tm-promo-block__image-wrapper\"><img alt=\"\" src=\"https://effect.habr.com/s/Q2B17CL8WV1eBKZWuUv3CQ.8NCrVeW1Af-TSvRbrpRheBSNQUpDX2Z3f8-IkXtFwtGf8rnOHCGPEphXm_nbndcEc6xTl6L2LRidB0m9UWpLxrI0YnrZDU7jGf-t8a65mclqy7aVJO9bgqtPy6N7VgJyNHTkL43zLPgFX91XBiBfuqBHxomRzYX9PJaAR9jVBZI\" class=\"tm-promo-block__image\"></div><div class=\"tm-promo-block__label\">\\n              Опрос\\n              <!----></div></header><div class=\"tm-promo-block__info\"><h3 class=\"tm-promo-block__title\">Сколько нужно DS, чтобы распутать клубок big data?</h3></div></a></div><div class=\"tm-promo-block__item-wrapper\"><a href=\"https://effect.habr.com/s/Aet0VsyfXIoWfwsYswr29g.ew9qzilX3wqp6B6BCva0AGJo3jl80GixAO77aB8G-iOHvs23zpdCaymIchnWQ5cPxtizoTo1Ci5WRo9EhcSNtg\" rel=\"nofollow sponsored\" class=\"tm-promo-block__item tm-article-title__link\"><header class=\"tm-promo-block__head\"><div class=\"tm-promo-block__image-wrapper\"><img alt=\"\" src=\"https://effect.habr.com/s/impm9NN4L0IdnvL_x_DrDw.NwaIK6FneF70ZXLdZ6IqtmdpNgzTdCYnpT4579GxBUnhANhsHo7A7MLuwyY4c18_sTAvPV5gAGZcvZrAXFXSxYv_HjBki2xW0satRYqvBZXTzUVeeUYXgEu0TlAyjdaidTGU8AUlnpQp3rIU6Cel1wy7rcvOpoxN8G2x-xJX-xOtZJas5a9-XUK0kEaO8Zm3\" class=\"tm-promo-block__image\"></div><div class=\"tm-promo-block__label\">\\n              Промо\\n              <svg xmlns=\"http://www.w3.org/2000/svg\" viewBox=\"0 0 11 11\" class=\"tm-block-promo__external\"><path fill=\"currentColor\" d=\"M7.5 0a.5.5 0 000 1h1.793L5.146 5.146a.5.5 0 10.708.708L10 1.707V3.5a.5.5 0 001 0v-3a.5.5 0 00-.5-.5h-3zm-7 1a.5.5 0 00-.5.5v9a.5.5 0 00.5.5h9a.5.5 0 00.5-.5V6a.5.5 0 00-1 0v4H1V2h4a.5.5 0 000-1H.5z\"></path></svg></div></header><div class=\"tm-promo-block__info\"><h3 class=\"tm-promo-block__title\">Много рыбы: производительность, стабильность, надёжность</h3></div></a></div></div></div><!----></section></div></div><div class=\"tm-page__sidebar\"><div class=\"tm-layout-sidebar\"><div class=\"tm-layout-sidebar__ads tm-layout-sidebar__ads_initial\"><div class=\"tm-ad-banner__container tm-layout-sidebar__banner\"><!----><div id=\"sidebarBanner\" class=\"tm-ad-banner\"></div></div></div><div class=\"tm-sexy-sidebar tm-sexy-sidebar_initial\" style=\"margin-top:0px;\"></div></div></div></div></div></div></main><!----></div><div class=\"tm-footer-menu\"><div class=\"tm-page-width\"><div class=\"tm-footer-menu__container\"><div class=\"tm-footer-menu__block\"><h3 class=\"tm-footer-menu__block-title\">\\n          Ваш аккаунт\\n        </h3><div class=\"tm-footer-menu__block-content\"><ul class=\"tm-footer-menu__list\"><li class=\"tm-footer-menu__list-item\"><a href=\"/kek/v1/auth/habrahabr/?back=/ru/search/&amp;hl=ru\" target=\"_self\">\\n                Войти\\n              </a></li><li class=\"tm-footer-menu__list-item\"><a href=\"/kek/v1/auth/habrahabr-register/?back=/ru/search/&amp;hl=ru\" target=\"_self\">\\n                Регистрация\\n              </a></li></ul></div></div><div class=\"tm-footer-menu__block\"><h3 class=\"tm-footer-menu__block-title\">\\n          Разделы\\n        </h3><div class=\"tm-footer-menu__block-content\"><ul class=\"tm-footer-menu__list\"><li class=\"tm-footer-menu__list-item\"><a href=\"/ru/\" class=\"footer-menu__item-link router-link-active\">\\n                Публикации\\n              </a></li><li class=\"tm-footer-menu__list-item\"><a href=\"/ru/news/\" class=\"footer-menu__item-link\">\\n                Новости\\n              </a></li><li class=\"tm-footer-menu__list-item\"><a href=\"/ru/hubs/\" class=\"footer-menu__item-link\">\\n                Хабы\\n              </a></li><li class=\"tm-footer-menu__list-item\"><a href=\"/ru/companies/\" class=\"footer-menu__item-link\">\\n                Компании\\n              </a></li><li class=\"tm-footer-menu__list-item\"><a href=\"/ru/users/\" class=\"footer-menu__item-link\">\\n                Авторы\\n              </a></li><li class=\"tm-footer-menu__list-item\"><a href=\"/ru/sandbox/\" class=\"footer-menu__item-link\">\\n                Песочница\\n              </a></li></ul></div></div><div class=\"tm-footer-menu__block\"><h3 class=\"tm-footer-menu__block-title\">\\n          Информация\\n        </h3><div class=\"tm-footer-menu__block-content\"><ul class=\"tm-footer-menu__list\"><li class=\"tm-footer-menu__list-item\"><a href=\"/ru/docs/help/\" class=\"footer-menu__item-link\">\\n                Устройство сайта\\n              </a></li><li class=\"tm-footer-menu__list-item\"><a href=\"/ru/docs/authors/codex/\" class=\"footer-menu__item-link\">\\n                Для авторов\\n              </a></li><li class=\"tm-footer-menu__list-item\"><a href=\"/ru/docs/companies/corpblogs/\" class=\"footer-menu__item-link\">\\n                Для компаний\\n              </a></li><li class=\"tm-footer-menu__list-item\"><a href=\"/ru/docs/docs/transparency/\" class=\"footer-menu__item-link\">\\n                Документы\\n              </a></li><li class=\"tm-footer-menu__list-item\"><a href=\"https://account.habr.com/info/agreement\" target=\"_blank\">\\n                Соглашение\\n              </a></li><li class=\"tm-footer-menu__list-item\"><a href=\"https://account.habr.com/info/confidential/\" target=\"_blank\">\\n                Конфиденциальность\\n              </a></li></ul></div></div><div class=\"tm-footer-menu__block\"><h3 class=\"tm-footer-menu__block-title\">\\n          Услуги\\n        </h3><div class=\"tm-footer-menu__block-content\"><ul class=\"tm-footer-menu__list\"><li class=\"tm-footer-menu__list-item\"><a href=\"https://docs.google.com/presentation/d/e/2PACX-1vQLwRfQmXibiUlWaRg-BAc38s7oM3lJiaPju7qmdJsp8ysIvZ_G-Npem0njJLMozE2bPHMpDqiI5hhy/pub?start=false&amp;loop=false&amp;delayms=60000&amp;slide=id.g91a03369cd_4_297\" target=\"_blank\">\\n                Реклама\\n              </a></li><li class=\"tm-footer-menu__list-item\"><a href=\"https://habrastorage.org/storage/stuff/habr/service_price.pdf\" target=\"_blank\">\\n                Тарифы\\n              </a></li><li class=\"tm-footer-menu__list-item\"><a href=\"https://docs.google.com/presentation/d/e/2PACX-1vQJJds8-Di7BQSP_guHxICN7woVYoN5NP_22ra-BIo4bqnTT9FR6fB-Ku2P0AoRpX0Ds-LRkDeAoD8F/pub?start=false&amp;loop=false&amp;delayms=60000\" target=\"_blank\">\\n                Контент\\n              </a></li><li class=\"tm-footer-menu__list-item\"><a href=\"https://tmtm.timepad.ru/\" target=\"_blank\">\\n                Семинары\\n              </a></li><li class=\"tm-footer-menu__list-item\"><a href=\"/ru/megaprojects/\" class=\"footer-menu__item-link\">\\n                Мегапроекты\\n              </a></li></ul></div></div></div></div></div><div class=\"tm-footer\"><div class=\"tm-page-width\"><div class=\"tm-footer__container\"><!----><div class=\"tm-footer__social\"><a href=\"https://www.facebook.com/habrahabr.ru\" rel=\"nofollow noopener noreferrer\" target=\"_blank\" class=\"tm-svg-icon__wrapper tm-social-icons__icon\"><svg height=\"16\" width=\"16\" class=\"tm-svg-img tm-svg-icon\"><title>Facebook</title><use xlink:href=\"/img/social-icons-sprite.svg#social-logo-facebook\"></use></svg></a><a href=\"https://twitter.com/habr_com\" rel=\"nofollow noopener noreferrer\" target=\"_blank\" class=\"tm-svg-icon__wrapper tm-social-icons__icon\"><svg height=\"16\" width=\"16\" class=\"tm-svg-img tm-svg-icon\"><title>Twitter</title><use xlink:href=\"/img/social-icons-sprite.svg#social-logo-twitter\"></use></svg></a><a href=\"https://vk.com/habr\" rel=\"nofollow noopener noreferrer\" target=\"_blank\" class=\"tm-svg-icon__wrapper tm-social-icons__icon\"><svg height=\"16\" width=\"16\" class=\"tm-svg-img tm-svg-icon\"><title>VK</title><use xlink:href=\"/img/social-icons-sprite.svg#social-logo-vkontakte\"></use></svg></a><a href=\"https://telegram.me/habr_com\" rel=\"nofollow noopener noreferrer\" target=\"_blank\" class=\"tm-svg-icon__wrapper tm-social-icons__icon\"><svg height=\"16\" width=\"16\" class=\"tm-svg-img tm-svg-icon\"><title>Telegram</title><use xlink:href=\"/img/social-icons-sprite.svg#social-logo-telegram\"></use></svg></a><a href=\"https://www.youtube.com/channel/UCd_sTwKqVrweTt4oAKY5y4w\" rel=\"nofollow noopener noreferrer\" target=\"_blank\" class=\"tm-svg-icon__wrapper tm-social-icons__icon\"><svg height=\"16\" width=\"16\" class=\"tm-svg-img tm-svg-icon\"><title>Youtube</title><use xlink:href=\"/img/social-icons-sprite.svg#social-logo-youtube\"></use></svg></a><a href=\"https://zen.yandex.ru/habr\" rel=\"nofollow noopener noreferrer\" target=\"_blank\" class=\"tm-svg-icon__wrapper tm-social-icons__icon\"><svg height=\"16\" width=\"16\" class=\"tm-svg-img tm-svg-icon\"><title>Яндекс Дзен</title><use xlink:href=\"/img/social-icons-sprite.svg#social-logo-zen\"></use></svg></a></div><DIV class=\"v-portal\" style=\"display:none;\"></DIV><button class=\"tm-footer__link\"><!---->\\n        Настройка языка\\n      </button><a href=\"/ru/about\" class=\"tm-footer__link\">\\n        О сайте\\n      </a><a href=\"/ru/feedback/\" class=\"tm-footer__link\">\\n        Техническая поддержка\\n      </a><!----><div></div><div class=\"tm-footer-copyright\"><span class=\"tm-copyright\"><span class=\"tm-copyright__years\">© 2006–2021 </span><span class=\"tm-copyright__name\">«<a href=\"https://company.habr.com/\" rel=\"noopener\" target=\"_blank\" class=\"tm-copyright__link\">Habr</a>»</span></span></div></div></div></div><!----><!----><div class=\"vue-portal-target\"></div></div></div>\\n<script>window.__INITIAL_STATE__={\"adblock\":{\"hasAcceptableAdsFilter\":false,\"hasAdblock\":false},\"articlesList\":{\"articlesList\":{},\"articlesIds\":{},\"isLoading\":false,\"pagesCount\":{},\"route\":{},\"reasonsList\":null,\"view\":\"cards\",\"lastVisitedRoute\":{},\"karma\":{}},\"authorContribution\":{\"authors\":{}},\"betaTest\":{\"currentAnnouncement\":null,\"announcements\":{},\"announcementCards\":null,\"announcementComments\":{},\"announcementCommentThreads\":{},\"announcementCommentingStatuses\":{},\"archivedList\":[]},\"authorStatistics\":{\"articleRefs\":{},\"articleIds\":{},\"pagesCount\":{},\"route\":{},\"viewsCount\":[],\"maxStatsCount\":{}},\"comments\":{\"commentsListV2\":{},\"threads\":[],\"isFormDisabled\":false,\"previewComment\":null,\"pagesCount\":null,\"commentAccess\":{},\"scrollParents\":{},\"pageArticleComments\":{\"freshComments\":[],\"lastViewedComment\":0,\"postId\":null,\"lastCommentTimestamp\":\"\",\"moderated\":[],\"moderatedIds\":[],\"commentRoute\":\"\"}},\"companies\":{\"companyRefs\":{},\"companyIds\":{},\"companyTopIds\":{},\"pagesCount\":{},\"companyProfiles\":{},\"companiesCategories\":[],\"companiesCategoriesTotalCount\":0,\"companiesWidgets\":{},\"companiesWorkers\":{},\"companiesFans\":{},\"route\":{},\"isLoading\":false,\"companyWorkersLoading\":false,\"companyFansLoading\":false,\"vacancies\":{}},\"companiesContribution\":{\"hubs\":{},\"flows\":{},\"companyRefs\":{}},\"companyHubsContribution\":{\"contributionRefs\":{\"hubRefs\":{},\"hubIds\":{}}},\"conversation\":{\"messages\":[],\"respondent\":null,\"isLoadMore\":false},\"conversations\":{\"conversations\":[],\"unreadCount\":0,\"pagesCount\":0,\"isLoadMore\":false},\"desktopState\":{\"desktopFl\":null,\"desktopHl\":null,\"isChecked\":false,\"isLoginDemanded\":false},\"dfp\":{\"slotsDict\":{}},\"docs\":{\"menu\":{},\"articles\":{},\"mainMenu\":[],\"loading\":{\"main\":false,\"dropdown\":false,\"article\":false}},\"feature\":{\"isProbablyVisible\":\"true\"},\"flows\":{\"flows\":[{\"alias\":\"develop\",\"id\":1,\"route\":{\"name\":\"FLOW_PAGE\",\"params\":{\"flowName\":\"develop\"}}},{\"alias\":\"admin\",\"id\":6,\"route\":{\"name\":\"FLOW_PAGE\",\"params\":{\"flowName\":\"admin\"}}},{\"alias\":\"design\",\"id\":2,\"route\":{\"name\":\"FLOW_PAGE\",\"params\":{\"flowName\":\"design\"}}},{\"alias\":\"management\",\"id\":3,\"route\":{\"name\":\"FLOW_PAGE\",\"params\":{\"flowName\":\"management\"}}},{\"alias\":\"marketing\",\"id\":4,\"route\":{\"name\":\"FLOW_PAGE\",\"params\":{\"flowName\":\"marketing\"}}},{\"alias\":\"popsci\",\"id\":7,\"route\":{\"name\":\"FLOW_PAGE\",\"params\":{\"flowName\":\"popsci\"}}}]},\"global\":{\"isPwa\":false,\"device\":\"desktop\",\"isHabrCom\":true},\"hubs\":{\"hubRefs\":{},\"hubIds\":{},\"pagesCount\":{},\"isLoading\":false,\"route\":{}},\"hubsBlock\":{\"hubRefs\":{},\"hubIds\":{}},\"i18n\":{\"fl\":\"ru\",\"hl\":\"ru\"},\"info\":{\"infoPage\":{},\"isLoading\":true},\"location\":{\"urlStruct\":{\"protocol\":null,\"slashes\":null,\"auth\":null,\"host\":null,\"port\":null,\"hostname\":null,\"hash\":null,\"search\":null,\"query\":{},\"pathname\":null,\"path\":null,\"href\":\"\"},\"searchQuery\":null},\"me\":{\"user\":null,\"ppgDemanded\":false,\"karmaResetInfo\":{\"canReincarnate\":null,\"wasReincarnated\":null,\"currentScore\":null},\"notes\":null},\"mostReadingList\":{\"mostReadingListIds\":[],\"mostReadingListRefs\":null,\"promoPost\":null},\"myFeedSettings\":{\"hubIds\":{},\"hubRefs\":{}},\"newsBlock\":{\"articleRefs\":{},\"articleIds\":{},\"requestTime\":{}},\"pinnedPost\":{\"pinnedPost\":null},\"ppa\":{\"articles\":{},\"card\":null,\"transactions\":null,\"totalTransactions\":null,\"isAccessible\":null},\"projectsBlocks\":{\"itemsList\":[],\"blockName\":null,\"companyAlias\":null},\"promoBlock\":{\"promoItems\":[{\"imageUrl\":\"https:\\\\u002F\\\\u002Feffect.habr.com\\\\u002Fs\\\\u002FnVpVBMNUkV7KgIrhtDfE5g.K0GHiEFET1y4NEnilK1jQSbk_8E3YHnaPhRryjhlW2pCStYRJAe_KMtALhHCz-dy0KqFTCIO74bqYdFo-H8G-mYOCAeTUMdSd-2eOD2adsVecDFL-9n8HDLI5yvJMTXRsd1-McekOswmyAtnZQm9P8j8lqewoeb575kqcXiIbjhJyGcLrnSueUIA0TNZiG11\",\"linkUrl\":\"https:\\\\u002F\\\\u002Feffect.habr.com\\\\u002Fs\\\\u002FLlOkTchMQjmDOlT0EVIw8g.GdyFf3M2L3I5m0tS7rhwMeu8eqe0eG16N8ImqvnUWn78eHPmfzarF3oa9WOKKynAnNDbSB0TyUBz6TayRXXliqaEre8U-PLpPJS9HfdBkxw\",\"title\":\"Сколько платили айтишникам в первой половине 2021\",\"label\":\"Мегапост\",\"external\":false},{\"imageUrl\":\"https:\\\\u002F\\\\u002Feffect.habr.com\\\\u002Fs\\\\u002FQ2B17CL8WV1eBKZWuUv3CQ.8NCrVeW1Af-TSvRbrpRheBSNQUpDX2Z3f8-IkXtFwtGf8rnOHCGPEphXm_nbndcEc6xTl6L2LRidB0m9UWpLxrI0YnrZDU7jGf-t8a65mclqy7aVJO9bgqtPy6N7VgJyNHTkL43zLPgFX91XBiBfuqBHxomRzYX9PJaAR9jVBZI\",\"linkUrl\":\"https:\\\\u002F\\\\u002Feffect.habr.com\\\\u002Fs\\\\u002FeBk7Ry0rByWvA9SNtp8p_g.ZoVbDrrhrWJBtyxRI3U2TLIMqoEeni3TDckai__M927PaQsfXaI7mnK4CeXhahhqc0902bnKfUSuUK7rk6F57kImTkahUiknAEaO5u5oFQE\",\"title\":\"Сколько нужно DS, чтобы распутать клубок big data?\",\"label\":\"Опрос\",\"external\":false},{\"imageUrl\":\"https:\\\\u002F\\\\u002Feffect.habr.com\\\\u002Fs\\\\u002Fimpm9NN4L0IdnvL_x_DrDw.NwaIK6FneF70ZXLdZ6IqtmdpNgzTdCYnpT4579GxBUnhANhsHo7A7MLuwyY4c18_sTAvPV5gAGZcvZrAXFXSxYv_HjBki2xW0satRYqvBZXTzUVeeUYXgEu0TlAyjdaidTGU8AUlnpQp3rIU6Cel1wy7rcvOpoxN8G2x-xJX-xOtZJas5a9-XUK0kEaO8Zm3\",\"linkUrl\":\"https:\\\\u002F\\\\u002Feffect.habr.com\\\\u002Fs\\\\u002FAet0VsyfXIoWfwsYswr29g.ew9qzilX3wqp6B6BCva0AGJo3jl80GixAO77aB8G-iOHvs23zpdCaymIchnWQ5cPxtizoTo1Ci5WRo9EhcSNtg\",\"title\":\"Много рыбы: производительность, стабильность, надёжность\",\"label\":\"Промо\",\"external\":true}]},\"pullRefresh\":{\"shouldRefresh\":false},\"sandbox\":{\"articleIds\":[],\"articleRefs\":{},\"pagesCount\":null,\"route\":{},\"lastVisitedRoute\":{},\"isLoading\":false},\"settingsOther\":{\"inputs\":{\"uiLang\":{\"errors\":[],\"ref\":null,\"value\":\"\"},\"articlesLangEnglish\":{\"errors\":[],\"ref\":null,\"value\":false},\"articlesLangRussian\":{\"errors\":[],\"ref\":null,\"value\":false},\"agreement\":{\"errors\":[],\"ref\":null,\"value\":false},\"email\":{\"errors\":[],\"ref\":null,\"value\":true},\"digest\":{\"errors\":[],\"ref\":null,\"value\":true}}},\"similarList\":{\"similarListIds\":[],\"similarListRefs\":null},\"ssr\":{\"error\":null,\"isDataLoaded\":false,\"isDataLoading\":false,\"isHydrationFailed\":false,\"isServer\":false},\"userHubsContribution\":{\"contributionRefs\":{\"hubRefs\":{},\"hubIds\":{}}},\"userInvites\":{\"availableInvites\":0,\"usedInvitesIds\":[],\"usedInvitesRefs\":{},\"usedInvitesPagesCount\":0,\"unusedInvitesIds\":[],\"unusedInvitesRefs\":{},\"unusedInvitesPagesCount\":0},\"users\":{\"authorRefs\":{},\"authorIds\":{},\"pagesCount\":{},\"authorProfiles\":{},\"authorFollowers\":{},\"authorFollowed\":{},\"karmaStats\":[],\"statistics\":null,\"isLoading\":false,\"authorFollowersLoading\":false,\"authorFollowedLoading\":false,\"route\":{}},\"viewport\":{\"prevScrollY\":{},\"scrollY\":0,\"width\":0},\"tracker\":{\"items\":{},\"pagesCache\":{},\"markedViewedSilently\":{},\"markedRead\":{},\"unreadCounters\":{\"applications\":null,\"system\":null,\"mentions\":null,\"subscribers\":null,\"posts_and_comments\":null},\"unviewedCounters\":{\"applications\":null,\"system\":null,\"mentions\":null,\"subscribers\":null,\"posts_and_comments\":null}}};(function(){var s;(s=document.currentScript||document.scripts[document.scripts.length-1]).parentNode.removeChild(s);}());</script>\\n<script src=\"https://assets.habr.com/habr-web/js/chunk-vendors.babbc823.js\" defer></script><script src=\"https://assets.habr.com/habr-web/js/search.8ea8b703.js\" defer></script><script src=\"https://assets.habr.com/habr-web/js/app.2108fbd0.js\" defer></script>\\n\\n\\n\\n    <script>\\n      (function(i,s,o,g,r,a,m){i[\\'GoogleAnalyticsObject\\']=r;i[r]=i[r]||function(){\\n        (i[r].q=i[r].q||[]).push(arguments)},i[r].l=1*new Date();a=s.createElement(o),\\n        m=s.getElementsByTagName(o)[0];a.async=1;a.src=g;m.parentNode.insertBefore(a,m)\\n      })(window,document,\\'script\\',\\'//www.google-analytics.com/analytics.js\\',\\'ga\\');\\n    </script>\\n  \\n  <script type=\"text/javascript\" >\\n    (function(m,e,t,r,i,k,a){m[i]=m[i]||function(){(m[i].a=m[i].a||[]).push(arguments)};\\n    m[i].l=1*new Date();k=e.createElement(t),a=e.getElementsByTagName(t)[0],k.async=1,k.src=r,a.parentNode.insertBefore(k,a)})\\n    (window, document, \"script\", \"https://mc.yandex.ru/metrika/tag.js\", \"ym\");\\n\\n    ym(24049213, \"init\", {\\n      trackLinks:true,\\n      accurateTrackBounce:true,\\n    });\\n  </script>\\n  <noscript>\\n    <div>\\n      <img src=\"https://mc.yandex.ru/watch/24049213\" style=\"position:absolute; left:-9999px;\" alt=\"\" />\\n    </div>\\n  </noscript>\\n  \\n    <script type=\"text/javascript\">\\n      window.addEventListener(\\'load\\', function () {\\n        setTimeout(() => {\\n          const img = new Image();\\n          img.src = \\'https://vk.com/rtrg?p=VK-RTRG-421343-57vKE\\';\\n        }, 0);\\n      });\\n    </script>\\n  \\n</body>\\n</html>\\n'"
      ]
     },
     "execution_count": 104,
     "metadata": {},
     "output_type": "execute_result"
    }
   ],
   "source": [
    "res.text"
   ]
  },
  {
   "cell_type": "code",
   "execution_count": 105,
   "id": "73a59fcc",
   "metadata": {},
   "outputs": [
    {
     "data": {
      "text/plain": [
       "<!DOCTYPE html>\n",
       "\n",
       "<html data-vue-meta=\"%7B%22lang%22:%7B%22ssr%22:%22ru%22%7D%7D\" lang=\"ru\">\n",
       "<head>\n",
       "<meta charset=\"utf-8\"/>\n",
       "<meta content=\"width=device-width,initial-scale=1.0,viewport-fit=cover\" name=\"viewport\"/>\n",
       "<title>Результаты поиска по запросу «» / Хабр</title>\n",
       "<style>\n",
       "    /* cyrillic-ext */\n",
       "    @font-face {\n",
       "      font-family: 'Fira Sans';\n",
       "      font-style: normal;\n",
       "      font-weight: 500;\n",
       "      font-display: swap;\n",
       "      src: url(https://fonts.gstatic.com/s/firasans/v11/va9B4kDNxMZdWfMOD5VnZKveSxf6TF0.woff2) format('woff2');\n",
       "      unicode-range: U+0460-052F, U+1C80-1C88, U+20B4, U+2DE0-2DFF, U+A640-A69F, U+FE2E-FE2F;\n",
       "    }\n",
       "\n",
       "    /* cyrillic */\n",
       "    @font-face {\n",
       "      font-family: 'Fira Sans';\n",
       "      font-style: normal;\n",
       "      font-weight: 500;\n",
       "      font-display: swap;\n",
       "      src: url(https://fonts.gstatic.com/s/firasans/v11/va9B4kDNxMZdWfMOD5VnZKveQhf6TF0.woff2) format('woff2');\n",
       "      unicode-range: U+0400-045F, U+0490-0491, U+04B0-04B1, U+2116;\n",
       "    }\n",
       "\n",
       "    /* latin-ext */\n",
       "    @font-face {\n",
       "      font-family: 'Fira Sans';\n",
       "      font-style: normal;\n",
       "      font-weight: 500;\n",
       "      font-display: swap;\n",
       "      src: url(https://fonts.gstatic.com/s/firasans/v11/va9B4kDNxMZdWfMOD5VnZKveSBf6TF0.woff2) format('woff2');\n",
       "      unicode-range: U+0100-024F, U+0259, U+1E00-1EFF, U+2020, U+20A0-20AB, U+20AD-20CF, U+2113, U+2C60-2C7F, U+A720-A7FF;\n",
       "    }\n",
       "\n",
       "    /* latin */\n",
       "    @font-face {\n",
       "      font-family: 'Fira Sans';\n",
       "      font-style: normal;\n",
       "      font-weight: 500;\n",
       "      font-display: swap;\n",
       "      src: url(https://fonts.gstatic.com/s/firasans/v11/va9B4kDNxMZdWfMOD5VnZKveRhf6.woff2) format('woff2');\n",
       "      unicode-range: U+0000-00FF, U+0131, U+0152-0153, U+02BB-02BC, U+02C6, U+02DA, U+02DC, U+2000-206F, U+2074, U+20AC, U+2122, U+2191, U+2193, U+2212, U+2215, U+FEFF, U+FFFD;\n",
       "    }\n",
       "  </style>\n",
       "<link as=\"style\" href=\"https://assets.habr.com/habr-web/css/chunk-vendors.db52f5c6.css\" rel=\"preload\"/><link as=\"script\" href=\"https://assets.habr.com/habr-web/js/chunk-vendors.babbc823.js\" rel=\"preload\"/><link as=\"style\" href=\"https://assets.habr.com/habr-web/css/app.e8c4ce8a.css\" rel=\"preload\"/><link as=\"script\" href=\"https://assets.habr.com/habr-web/js/app.2108fbd0.js\" rel=\"preload\"/><link as=\"style\" href=\"https://assets.habr.com/habr-web/css/search.9a0d81c7.css\" rel=\"preload\"/><link as=\"script\" href=\"https://assets.habr.com/habr-web/js/search.8ea8b703.js\" rel=\"preload\"/>\n",
       "<link href=\"https://assets.habr.com/habr-web/css/chunk-vendors.db52f5c6.css\" rel=\"stylesheet\"/><link href=\"https://assets.habr.com/habr-web/css/app.e8c4ce8a.css\" rel=\"stylesheet\"/><link href=\"https://assets.habr.com/habr-web/css/search.9a0d81c7.css\" rel=\"stylesheet\"/>\n",
       "<script>window.i18nFetch = new Promise((res, rej) => {\n",
       "          const xhr = new XMLHttpRequest();\n",
       "          xhr.open('GET', '/js/i18n/ru-compiled.65b7101f549f1d42acffdfffecec97cf.json');\n",
       "          xhr.responseType = 'json';\n",
       "          xhr.onload = function(e) {\n",
       "            if (this.status === 200) {\n",
       "              res({ru: xhr.response});\n",
       "            } else {\n",
       "              rej(e);\n",
       "            }\n",
       "          };\n",
       "          xhr.send();\n",
       "        });</script>\n",
       "<script data-vmid=\"checkad\" data-vue-meta=\"ssr\" onload=\"window['zhY4i4nJ9K'] = true\" src=\"/js/ads.js\"></script>\n",
       "<script async=\"\" src=\"//www.googletagservices.com/tag/js/gpt.js\"></script>\n",
       "<style>.grecaptcha-badge{visibility: hidden;}</style>\n",
       "<meta content=\"2.39.1\" name=\"habr-version\"/>\n",
       "<meta content=\"/img/habr_en.png\" data-vmid=\"image:itemprop\" data-vue-meta=\"ssr\" itemprop=\"image\"/><meta content=\"/img/habr_en.png\" data-vmid=\"og:image\" data-vue-meta=\"ssr\" property=\"og:image\"/><meta content=\"/img/habr_en.png\" data-vmid=\"aiturec:image\" data-vue-meta=\"ssr\" property=\"aiturec:image\"/><meta content=\"/img/habr_en.png\" data-vmid=\"twitter:image\" data-vue-meta=\"ssr\" name=\"twitter:image\"/><meta content=\"/img/habr_en.png\" data-vmid=\"vk:image\" data-vue-meta=\"ssr\" property=\"vk:image\"/><meta content=\"444736788986613\" data-vue-meta=\"ssr\" property=\"fb:app_id\"/><meta content=\"472597926099084\" data-vue-meta=\"ssr\" property=\"fb:pages\"/><meta content=\"summary_large_image\" data-vue-meta=\"ssr\" name=\"twitter:card\"/><meta content=\"@habr_eng\" data-vue-meta=\"ssr\" name=\"twitter:site\"/><meta content=\"ru_RU\" data-vmid=\"og:locale\" data-vue-meta=\"ssr\" property=\"og:locale\"/><meta content=\"website\" data-vmid=\"og:type\" data-vue-meta=\"ssr\" property=\"og:type\"/>\n",
       "<link data-vmid=\"image:href\" data-vue-meta=\"ssr\" href=\"/img/habr_en.png\" image_src=\"image\"/><link data-vmid=\"canonical\" data-vue-meta=\"ssr\" href=\"https://habr.com/ru/search/\" rel=\"canonical\"/><link data-vmid=\"hreflang\" data-vue-meta=\"ssr\" href=\"https://habr.com/ru/search/\" hreflang=\"ru\" rel=\"alternate\"/><link data-vmid=\"hreflang\" data-vue-meta=\"ssr\" href=\"https://habr.com/en/search/?search=python&amp;search=%D0%BF%D0%B0%D1%80%D1%81%D0%B8%D0%BD%D0%B3\" hreflang=\"en\" rel=\"alternate\"/><link data-vue-meta=\"ssr\" href=\"https://habr.com/ru/rss/search/?q=undefined++++++++&amp;order_by=undefined++++++++&amp;target_type=undefined++++++++&amp;hl=ru++++++++&amp;fl=ru&amp;fl=ru\" name=\"rss\" rel=\"alternate\" title=\"\" type=\"application/rss+xml\"/>\n",
       "<meta content=\"#303b44\" name=\"apple-mobile-web-app-status-bar-style\"/>\n",
       "<meta content=\"#629FBC\" name=\"msapplication-TileColor\"/>\n",
       "<meta content=\"yes\" name=\"apple-mobile-web-app-capable\"/>\n",
       "<meta content=\"yes\" name=\"mobile-web-app-capable\"/>\n",
       "<link href=\"https://assets.habr.com/habr-web/img/favicons/favicon-16.png\" rel=\"shortcut icon\" sizes=\"16x16\" type=\"image/png\"/>\n",
       "<link href=\"https://assets.habr.com/habr-web/img/favicons/favicon-32.png\" rel=\"shortcut icon\" sizes=\"32x32\" type=\"image/png\"/>\n",
       "<link href=\"https://assets.habr.com/habr-web/img/favicons/apple-touch-icon-76.png\" rel=\"apple-touch-icon\" sizes=\"76x76\" type=\"image/png\"/>\n",
       "<link href=\"https://assets.habr.com/habr-web/img/favicons/apple-touch-icon-120.png\" rel=\"apple-touch-icon\" sizes=\"120x120\" type=\"image/png\"/>\n",
       "<link href=\"https://assets.habr.com/habr-web/img/favicons/apple-touch-icon-152.png\" rel=\"apple-touch-icon\" sizes=\"152x152\" type=\"image/png\"/>\n",
       "<link href=\"https://assets.habr.com/habr-web/img/favicons/apple-touch-icon-180.png\" rel=\"apple-touch-icon\" sizes=\"180x180\" type=\"image/png\"/>\n",
       "<link href=\"https://assets.habr.com/habr-web/img/favicons/apple-touch-icon-256.png\" rel=\"apple-touch-icon\" sizes=\"256x256\" type=\"image/png\"/>\n",
       "<link href=\"https://assets.habr.com/habr-web/img/splashes/splash_1136x640.png\" media=\"screen and (device-width: 320px) and (device-height: 568px) and (-webkit-device-pixel-ratio: 2) and (orientation: landscape)\" rel=\"apple-touch-startup-image\"/>\n",
       "<link href=\"https://assets.habr.com/habr-web/img/splashes/splash_2436x1125.png\" media=\"screen and (device-width: 375px) and (device-height: 812px) and (-webkit-device-pixel-ratio: 3) and (orientation: landscape)\" rel=\"apple-touch-startup-image\"/>\n",
       "<link href=\"https://assets.habr.com/habr-web/img/splashes/splash_1792x828.png\" media=\"screen and (device-width: 414px) and (device-height: 896px) and (-webkit-device-pixel-ratio: 2) and (orientation: landscape)\" rel=\"apple-touch-startup-image\"/>\n",
       "<link href=\"https://assets.habr.com/habr-web/img/splashes/splash_828x1792.png\" media=\"screen and (device-width: 414px) and (device-height: 896px) and (-webkit-device-pixel-ratio: 2) and (orientation: portrait)\" rel=\"apple-touch-startup-image\"/>\n",
       "<link href=\"https://assets.habr.com/habr-web/img/splashes/splash_1334x750.png\" media=\"screen and (device-width: 375px) and (device-height: 667px) and (-webkit-device-pixel-ratio: 2) and (orientation: landscape)\" rel=\"apple-touch-startup-image\"/>\n",
       "<link href=\"https://assets.habr.com/habr-web/img/splashes/splash_1242x2668.png\" media=\"screen and (device-width: 414px) and (device-height: 896px) and (-webkit-device-pixel-ratio: 3) and (orientation: portrait)\" rel=\"apple-touch-startup-image\"/>\n",
       "<link href=\"https://assets.habr.com/habr-web/img/splashes/splash_2208x1242.png\" media=\"screen and (device-width: 414px) and (device-height: 736px) and (-webkit-device-pixel-ratio: 3) and (orientation: landscape)\" rel=\"apple-touch-startup-image\"/>\n",
       "<link href=\"https://assets.habr.com/habr-web/img/splashes/splash_1125x2436.png\" media=\"screen and (device-width: 375px) and (device-height: 812px) and (-webkit-device-pixel-ratio: 3) and (orientation: portrait)\" rel=\"apple-touch-startup-image\"/>\n",
       "<link href=\"https://assets.habr.com/habr-web/img/splashes/splash_1242x2208.png\" media=\"screen and (device-width: 414px) and (device-height: 736px) and (-webkit-device-pixel-ratio: 3) and (orientation: portrait)\" rel=\"apple-touch-startup-image\"/>\n",
       "<link href=\"https://assets.habr.com/habr-web/img/splashes/splash_2732x2048.png\" media=\"screen and (device-width: 1024px) and (device-height: 1366px) and (-webkit-device-pixel-ratio: 2) and (orientation: landscape)\" rel=\"apple-touch-startup-image\"/>\n",
       "<link href=\"https://assets.habr.com/habr-web/img/splashes/splash_2688x1242.png\" media=\"screen and (device-width: 414px) and (device-height: 896px) and (-webkit-device-pixel-ratio: 3) and (orientation: landscape)\" rel=\"apple-touch-startup-image\"/>\n",
       "<link href=\"https://assets.habr.com/habr-web/img/splashes/splash_2224x1668.png\" media=\"screen and (device-width: 834px) and (device-height: 1112px) and (-webkit-device-pixel-ratio: 2) and (orientation: landscape)\" rel=\"apple-touch-startup-image\"/>\n",
       "<link href=\"https://assets.habr.com/habr-web/img/splashes/splash_750x1334.png\" media=\"screen and (device-width: 375px) and (device-height: 667px) and (-webkit-device-pixel-ratio: 2) and (orientation: portrait)\" rel=\"apple-touch-startup-image\"/>\n",
       "<link href=\"https://assets.habr.com/habr-web/img/splashes/splash_2048x2732.png\" media=\"screen and (device-width: 1024px) and (device-height: 1366px) and (-webkit-device-pixel-ratio: 2) and (orientation: portrait)\" rel=\"apple-touch-startup-image\"/>\n",
       "<link href=\"https://assets.habr.com/habr-web/img/splashes/splash_2388x1668.png\" media=\"screen and (device-width: 834px) and (device-height: 1194px) and (-webkit-device-pixel-ratio: 2) and (orientation: landscape)\" rel=\"apple-touch-startup-image\"/>\n",
       "<link href=\"https://assets.habr.com/habr-web/img/splashes/splash_1668x2224.png\" media=\"screen and (device-width: 834px) and (device-height: 1112px) and (-webkit-device-pixel-ratio: 2) and (orientation: portrait)\" rel=\"apple-touch-startup-image\"/>\n",
       "<link href=\"https://assets.habr.com/habr-web/img/splashes/splash_640x1136.png\" media=\"screen and (device-width: 320px) and (device-height: 568px) and (-webkit-device-pixel-ratio: 2) and (orientation: portrait)\" rel=\"apple-touch-startup-image\"/>\n",
       "<link href=\"https://assets.habr.com/habr-web/img/splashes/splash_1668x2388.png\" media=\"screen and (device-width: 834px) and (device-height: 1194px) and (-webkit-device-pixel-ratio: 2) and (orientation: portrait)\" rel=\"apple-touch-startup-image\"/>\n",
       "<link href=\"https://assets.habr.com/habr-web/img/splashes/splash_2048x1536.png\" media=\"screen and (device-width: 768px) and (device-height: 1024px) and (-webkit-device-pixel-ratio: 2) and (orientation: landscape)\" rel=\"apple-touch-startup-image\"/>\n",
       "<link href=\"https://assets.habr.com/habr-web/img/splashes/splash_1536x2048.png\" media=\"screen and (device-width: 768px) and (device-height: 1024px) and (-webkit-device-pixel-ratio: 2) and (orientation: portrait)\" rel=\"apple-touch-startup-image\"/>\n",
       "<link color=\"#77a2b6\" href=\"https://assets.habr.com/habr-web/img/favicons/apple-touch-icon-120.svg\" rel=\"mask-icon\"/>\n",
       "<link crossorigin=\"use-credentials\" href=\"/manifest.webmanifest\" rel=\"manifest\"/>\n",
       "</head>\n",
       "<body>\n",
       "<div data-async-called=\"true\" data-server-rendered=\"true\" id=\"app\"><div class=\"tm-layout__wrapper\"><!-- --><div></div><!-- --><header class=\"tm-header\"><div class=\"tm-page-width\"><div class=\"tm-header__container\"><!-- --><span class=\"tm-header__logo-wrap\"><a class=\"tm-header__logo tm-header__logo_ru\" href=\"/ru/\"><svg class=\"tm-svg-img tm-header__icon\" height=\"16\" width=\"16\"><title>Хабр</title><use xlink:href=\"/img/habr-logo-ru.svg#logo\"></use></svg></a><span class=\"tm-header__beta-sign\" style=\"display:none;\">β</span></span><div class=\"tm-dropdown tm-header__projects\"><div class=\"tm-dropdown__head\"><button class=\"tm-header__dropdown-toggle\"><svg class=\"tm-svg-img tm-header__icon tm-header__icon_dropdown\" height=\"16\" width=\"16\"><title>Открыть список</title><use xlink:href=\"/img/megazord-v24.4c3730a5.svg#arrow-down\"></use></svg></button></div><!-- --></div><a class=\"tm-header__become-author-btn\" href=\"/ru/sandbox/start/\">\n",
       "              Как стать автором\n",
       "            </a><div class=\"tm-feature tm-header__feature tm-feature_variant-inline\"><!-- --></div><!-- --><!-- --></div></div></header><div class=\"tm-layout\"><div class=\"tm-page-progress-bar\"></div><div class=\"tm-base-layout__header tm-base-layout__header_is-sticky\" data-menu-sticky=\"true\"><div class=\"tm-page-width\"><div class=\"tm-base-layout__header-wrapper\"><div class=\"tm-main-menu\"><div class=\"tm-main-menu__section\"><nav class=\"tm-main-menu__section-content\"><!-- --><a class=\"tm-main-menu__item\" href=\"/ru/all/\">\n",
       "        Все потоки\n",
       "      </a><a class=\"tm-main-menu__item\" href=\"/ru/flows/develop/\">\n",
       "          Разработка\n",
       "        </a><a class=\"tm-main-menu__item\" href=\"/ru/flows/admin/\">\n",
       "          Администрирование\n",
       "        </a><a class=\"tm-main-menu__item\" href=\"/ru/flows/design/\">\n",
       "          Дизайн\n",
       "        </a><a class=\"tm-main-menu__item\" href=\"/ru/flows/management/\">\n",
       "          Менеджмент\n",
       "        </a><a class=\"tm-main-menu__item\" href=\"/ru/flows/marketing/\">\n",
       "          Маркетинг\n",
       "        </a><a class=\"tm-main-menu__item\" href=\"/ru/flows/popsci/\">\n",
       "          Научпоп\n",
       "        </a></nav></div></div><div class=\"tm-header-user-menu tm-base-layout__user-menu\"><a class=\"tm-header-user-menu__item tm-header-user-menu__search router-link-active\" href=\"/ru/search/\"><svg class=\"tm-svg-img tm-header-user-menu__icon tm-header-user-menu__icon_search tm-header-user-menu__icon_dark\" height=\"24\" width=\"24\"><title>Поиск</title><use xlink:href=\"/img/megazord-v24.4c3730a5.svg#search\"></use></svg></a><!-- --><!-- --><!-- --><div class=\"tm-header-user-menu__item tm-header-user-menu__user_desktop\"><div class=\"tm-dropdown\"><div class=\"tm-dropdown__head\"><svg class=\"tm-svg-img tm-header-user-menu__icon\" data-test-id=\"menu-toggle-guest\" height=\"24\" width=\"24\"><title>Профиль</title><use xlink:href=\"/img/megazord-v24.4c3730a5.svg#header-user\"></use></svg><!-- --></div><!-- --></div><!-- --></div><!-- --></div></div></div></div><!-- --><div class=\"tm-page-width\"></div><main class=\"tm-layout__container\"><div class=\"tm-page\" data-async-called=\"true\"><div class=\"tm-page-width\"><!-- --><div class=\"tm-page__wrapper\"><div class=\"tm-page__main tm-page__main_has-sidebar\"><div class=\"pull-down\"><div class=\"pull-down__header\" style=\"height:0px;\"><div class=\"pull-down__content\" style=\"bottom:10px;\"><svg class=\"tm-svg-img pull-down__arrow\" height=\"24\" width=\"24\"><title>Обновить</title><use xlink:href=\"/img/megazord-v24.4c3730a5.svg#pull-arrow\"></use></svg></div></div><div class=\"tm-page__top\"><form action=\"/ru/search/\" class=\"tm-search\" method=\"GET\"><div autofocus=\"autofocus\" class=\"tm-input-text-decorated tm-search__input tm-input-text-decorated_has-label-after\" name=\"q\" placeholder=\"Поиск\"><!-- --><input autofocus=\"autofocus\" class=\"tm-input-text-decorated__input\" name=\"q\" placeholder=\"Поиск\" value=\"\"/><div class=\"tm-input-text-decorated__label tm-input-text-decorated__label_after\"><span class=\"tm-svg-icon__wrapper tm-search__icon\"><svg class=\"tm-svg-img tm-svg-icon\" height=\"16\" width=\"16\"><title>Поиск</title><use xlink:href=\"/img/megazord-v24.4c3730a5.svg#search\"></use></svg></span></div></div><input name=\"target_type\" type=\"hidden\" value=\"posts\"/><input hidden=\"hidden\" type=\"submit\"/></form><!-- --></div><section class=\"tm-block tm-articles-list__promo-block tm-block_spacing-bottom\"><header class=\"tm-block__header\"><h2 class=\"tm-block__title\">Минуточку внимания</h2><div class=\"tm-block__header-aside\"><a class=\"tm-block-extralink\" href=\"https://tmtm.ru/megapost/\" target=\"_blank\">\n",
       "      Разместить\n",
       "    </a></div></header><div class=\"tm-block__body\"><div class=\"tm-promo-block__content-wrapper\" pagination=\"\" slides-per-view=\"1\"><div class=\"tm-promo-block__item-wrapper\"><a class=\"tm-promo-block__item tm-article-title__link\" href=\"https://effect.habr.com/s/LlOkTchMQjmDOlT0EVIw8g.GdyFf3M2L3I5m0tS7rhwMeu8eqe0eG16N8ImqvnUWn78eHPmfzarF3oa9WOKKynAnNDbSB0TyUBz6TayRXXliqaEre8U-PLpPJS9HfdBkxw\" rel=\"nofollow\"><header class=\"tm-promo-block__head\"><div class=\"tm-promo-block__image-wrapper\"><img alt=\"\" class=\"tm-promo-block__image\" src=\"https://effect.habr.com/s/nVpVBMNUkV7KgIrhtDfE5g.K0GHiEFET1y4NEnilK1jQSbk_8E3YHnaPhRryjhlW2pCStYRJAe_KMtALhHCz-dy0KqFTCIO74bqYdFo-H8G-mYOCAeTUMdSd-2eOD2adsVecDFL-9n8HDLI5yvJMTXRsd1-McekOswmyAtnZQm9P8j8lqewoeb575kqcXiIbjhJyGcLrnSueUIA0TNZiG11\"/></div><div class=\"tm-promo-block__label\">\n",
       "              Мегапост\n",
       "              <!-- --></div></header><div class=\"tm-promo-block__info\"><h3 class=\"tm-promo-block__title\">Сколько платили айтишникам в первой половине 2021</h3></div></a></div><div class=\"tm-promo-block__item-wrapper\"><a class=\"tm-promo-block__item tm-article-title__link\" href=\"https://effect.habr.com/s/eBk7Ry0rByWvA9SNtp8p_g.ZoVbDrrhrWJBtyxRI3U2TLIMqoEeni3TDckai__M927PaQsfXaI7mnK4CeXhahhqc0902bnKfUSuUK7rk6F57kImTkahUiknAEaO5u5oFQE\" rel=\"nofollow\"><header class=\"tm-promo-block__head\"><div class=\"tm-promo-block__image-wrapper\"><img alt=\"\" class=\"tm-promo-block__image\" src=\"https://effect.habr.com/s/Q2B17CL8WV1eBKZWuUv3CQ.8NCrVeW1Af-TSvRbrpRheBSNQUpDX2Z3f8-IkXtFwtGf8rnOHCGPEphXm_nbndcEc6xTl6L2LRidB0m9UWpLxrI0YnrZDU7jGf-t8a65mclqy7aVJO9bgqtPy6N7VgJyNHTkL43zLPgFX91XBiBfuqBHxomRzYX9PJaAR9jVBZI\"/></div><div class=\"tm-promo-block__label\">\n",
       "              Опрос\n",
       "              <!-- --></div></header><div class=\"tm-promo-block__info\"><h3 class=\"tm-promo-block__title\">Сколько нужно DS, чтобы распутать клубок big data?</h3></div></a></div><div class=\"tm-promo-block__item-wrapper\"><a class=\"tm-promo-block__item tm-article-title__link\" href=\"https://effect.habr.com/s/Aet0VsyfXIoWfwsYswr29g.ew9qzilX3wqp6B6BCva0AGJo3jl80GixAO77aB8G-iOHvs23zpdCaymIchnWQ5cPxtizoTo1Ci5WRo9EhcSNtg\" rel=\"nofollow sponsored\"><header class=\"tm-promo-block__head\"><div class=\"tm-promo-block__image-wrapper\"><img alt=\"\" class=\"tm-promo-block__image\" src=\"https://effect.habr.com/s/impm9NN4L0IdnvL_x_DrDw.NwaIK6FneF70ZXLdZ6IqtmdpNgzTdCYnpT4579GxBUnhANhsHo7A7MLuwyY4c18_sTAvPV5gAGZcvZrAXFXSxYv_HjBki2xW0satRYqvBZXTzUVeeUYXgEu0TlAyjdaidTGU8AUlnpQp3rIU6Cel1wy7rcvOpoxN8G2x-xJX-xOtZJas5a9-XUK0kEaO8Zm3\"/></div><div class=\"tm-promo-block__label\">\n",
       "              Промо\n",
       "              <svg class=\"tm-block-promo__external\" viewbox=\"0 0 11 11\" xmlns=\"http://www.w3.org/2000/svg\"><path d=\"M7.5 0a.5.5 0 000 1h1.793L5.146 5.146a.5.5 0 10.708.708L10 1.707V3.5a.5.5 0 001 0v-3a.5.5 0 00-.5-.5h-3zm-7 1a.5.5 0 00-.5.5v9a.5.5 0 00.5.5h9a.5.5 0 00.5-.5V6a.5.5 0 00-1 0v4H1V2h4a.5.5 0 000-1H.5z\" fill=\"currentColor\"></path></svg></div></header><div class=\"tm-promo-block__info\"><h3 class=\"tm-promo-block__title\">Много рыбы: производительность, стабильность, надёжность</h3></div></a></div></div></div><!-- --></section></div></div><div class=\"tm-page__sidebar\"><div class=\"tm-layout-sidebar\"><div class=\"tm-layout-sidebar__ads tm-layout-sidebar__ads_initial\"><div class=\"tm-ad-banner__container tm-layout-sidebar__banner\"><!-- --><div class=\"tm-ad-banner\" id=\"sidebarBanner\"></div></div></div><div class=\"tm-sexy-sidebar tm-sexy-sidebar_initial\" style=\"margin-top:0px;\"></div></div></div></div></div></div></main><!-- --></div><div class=\"tm-footer-menu\"><div class=\"tm-page-width\"><div class=\"tm-footer-menu__container\"><div class=\"tm-footer-menu__block\"><h3 class=\"tm-footer-menu__block-title\">\n",
       "          Ваш аккаунт\n",
       "        </h3><div class=\"tm-footer-menu__block-content\"><ul class=\"tm-footer-menu__list\"><li class=\"tm-footer-menu__list-item\"><a href=\"/kek/v1/auth/habrahabr/?back=/ru/search/&amp;hl=ru\" target=\"_self\">\n",
       "                Войти\n",
       "              </a></li><li class=\"tm-footer-menu__list-item\"><a href=\"/kek/v1/auth/habrahabr-register/?back=/ru/search/&amp;hl=ru\" target=\"_self\">\n",
       "                Регистрация\n",
       "              </a></li></ul></div></div><div class=\"tm-footer-menu__block\"><h3 class=\"tm-footer-menu__block-title\">\n",
       "          Разделы\n",
       "        </h3><div class=\"tm-footer-menu__block-content\"><ul class=\"tm-footer-menu__list\"><li class=\"tm-footer-menu__list-item\"><a class=\"footer-menu__item-link router-link-active\" href=\"/ru/\">\n",
       "                Публикации\n",
       "              </a></li><li class=\"tm-footer-menu__list-item\"><a class=\"footer-menu__item-link\" href=\"/ru/news/\">\n",
       "                Новости\n",
       "              </a></li><li class=\"tm-footer-menu__list-item\"><a class=\"footer-menu__item-link\" href=\"/ru/hubs/\">\n",
       "                Хабы\n",
       "              </a></li><li class=\"tm-footer-menu__list-item\"><a class=\"footer-menu__item-link\" href=\"/ru/companies/\">\n",
       "                Компании\n",
       "              </a></li><li class=\"tm-footer-menu__list-item\"><a class=\"footer-menu__item-link\" href=\"/ru/users/\">\n",
       "                Авторы\n",
       "              </a></li><li class=\"tm-footer-menu__list-item\"><a class=\"footer-menu__item-link\" href=\"/ru/sandbox/\">\n",
       "                Песочница\n",
       "              </a></li></ul></div></div><div class=\"tm-footer-menu__block\"><h3 class=\"tm-footer-menu__block-title\">\n",
       "          Информация\n",
       "        </h3><div class=\"tm-footer-menu__block-content\"><ul class=\"tm-footer-menu__list\"><li class=\"tm-footer-menu__list-item\"><a class=\"footer-menu__item-link\" href=\"/ru/docs/help/\">\n",
       "                Устройство сайта\n",
       "              </a></li><li class=\"tm-footer-menu__list-item\"><a class=\"footer-menu__item-link\" href=\"/ru/docs/authors/codex/\">\n",
       "                Для авторов\n",
       "              </a></li><li class=\"tm-footer-menu__list-item\"><a class=\"footer-menu__item-link\" href=\"/ru/docs/companies/corpblogs/\">\n",
       "                Для компаний\n",
       "              </a></li><li class=\"tm-footer-menu__list-item\"><a class=\"footer-menu__item-link\" href=\"/ru/docs/docs/transparency/\">\n",
       "                Документы\n",
       "              </a></li><li class=\"tm-footer-menu__list-item\"><a href=\"https://account.habr.com/info/agreement\" target=\"_blank\">\n",
       "                Соглашение\n",
       "              </a></li><li class=\"tm-footer-menu__list-item\"><a href=\"https://account.habr.com/info/confidential/\" target=\"_blank\">\n",
       "                Конфиденциальность\n",
       "              </a></li></ul></div></div><div class=\"tm-footer-menu__block\"><h3 class=\"tm-footer-menu__block-title\">\n",
       "          Услуги\n",
       "        </h3><div class=\"tm-footer-menu__block-content\"><ul class=\"tm-footer-menu__list\"><li class=\"tm-footer-menu__list-item\"><a href=\"https://docs.google.com/presentation/d/e/2PACX-1vQLwRfQmXibiUlWaRg-BAc38s7oM3lJiaPju7qmdJsp8ysIvZ_G-Npem0njJLMozE2bPHMpDqiI5hhy/pub?start=false&amp;loop=false&amp;delayms=60000&amp;slide=id.g91a03369cd_4_297\" target=\"_blank\">\n",
       "                Реклама\n",
       "              </a></li><li class=\"tm-footer-menu__list-item\"><a href=\"https://habrastorage.org/storage/stuff/habr/service_price.pdf\" target=\"_blank\">\n",
       "                Тарифы\n",
       "              </a></li><li class=\"tm-footer-menu__list-item\"><a href=\"https://docs.google.com/presentation/d/e/2PACX-1vQJJds8-Di7BQSP_guHxICN7woVYoN5NP_22ra-BIo4bqnTT9FR6fB-Ku2P0AoRpX0Ds-LRkDeAoD8F/pub?start=false&amp;loop=false&amp;delayms=60000\" target=\"_blank\">\n",
       "                Контент\n",
       "              </a></li><li class=\"tm-footer-menu__list-item\"><a href=\"https://tmtm.timepad.ru/\" target=\"_blank\">\n",
       "                Семинары\n",
       "              </a></li><li class=\"tm-footer-menu__list-item\"><a class=\"footer-menu__item-link\" href=\"/ru/megaprojects/\">\n",
       "                Мегапроекты\n",
       "              </a></li></ul></div></div></div></div></div><div class=\"tm-footer\"><div class=\"tm-page-width\"><div class=\"tm-footer__container\"><!-- --><div class=\"tm-footer__social\"><a class=\"tm-svg-icon__wrapper tm-social-icons__icon\" href=\"https://www.facebook.com/habrahabr.ru\" rel=\"nofollow noopener noreferrer\" target=\"_blank\"><svg class=\"tm-svg-img tm-svg-icon\" height=\"16\" width=\"16\"><title>Facebook</title><use xlink:href=\"/img/social-icons-sprite.svg#social-logo-facebook\"></use></svg></a><a class=\"tm-svg-icon__wrapper tm-social-icons__icon\" href=\"https://twitter.com/habr_com\" rel=\"nofollow noopener noreferrer\" target=\"_blank\"><svg class=\"tm-svg-img tm-svg-icon\" height=\"16\" width=\"16\"><title>Twitter</title><use xlink:href=\"/img/social-icons-sprite.svg#social-logo-twitter\"></use></svg></a><a class=\"tm-svg-icon__wrapper tm-social-icons__icon\" href=\"https://vk.com/habr\" rel=\"nofollow noopener noreferrer\" target=\"_blank\"><svg class=\"tm-svg-img tm-svg-icon\" height=\"16\" width=\"16\"><title>VK</title><use xlink:href=\"/img/social-icons-sprite.svg#social-logo-vkontakte\"></use></svg></a><a class=\"tm-svg-icon__wrapper tm-social-icons__icon\" href=\"https://telegram.me/habr_com\" rel=\"nofollow noopener noreferrer\" target=\"_blank\"><svg class=\"tm-svg-img tm-svg-icon\" height=\"16\" width=\"16\"><title>Telegram</title><use xlink:href=\"/img/social-icons-sprite.svg#social-logo-telegram\"></use></svg></a><a class=\"tm-svg-icon__wrapper tm-social-icons__icon\" href=\"https://www.youtube.com/channel/UCd_sTwKqVrweTt4oAKY5y4w\" rel=\"nofollow noopener noreferrer\" target=\"_blank\"><svg class=\"tm-svg-img tm-svg-icon\" height=\"16\" width=\"16\"><title>Youtube</title><use xlink:href=\"/img/social-icons-sprite.svg#social-logo-youtube\"></use></svg></a><a class=\"tm-svg-icon__wrapper tm-social-icons__icon\" href=\"https://zen.yandex.ru/habr\" rel=\"nofollow noopener noreferrer\" target=\"_blank\"><svg class=\"tm-svg-img tm-svg-icon\" height=\"16\" width=\"16\"><title>Яндекс Дзен</title><use xlink:href=\"/img/social-icons-sprite.svg#social-logo-zen\"></use></svg></a></div><div class=\"v-portal\" style=\"display:none;\"></div><button class=\"tm-footer__link\"><!-- -->\n",
       "        Настройка языка\n",
       "      </button><a class=\"tm-footer__link\" href=\"/ru/about\">\n",
       "        О сайте\n",
       "      </a><a class=\"tm-footer__link\" href=\"/ru/feedback/\">\n",
       "        Техническая поддержка\n",
       "      </a><!-- --><div></div><div class=\"tm-footer-copyright\"><span class=\"tm-copyright\"><span class=\"tm-copyright__years\">© 2006–2021 </span><span class=\"tm-copyright__name\">«<a class=\"tm-copyright__link\" href=\"https://company.habr.com/\" rel=\"noopener\" target=\"_blank\">Habr</a>»</span></span></div></div></div></div><!-- --><!-- --><div class=\"vue-portal-target\"></div></div></div>\n",
       "<script>window.__INITIAL_STATE__={\"adblock\":{\"hasAcceptableAdsFilter\":false,\"hasAdblock\":false},\"articlesList\":{\"articlesList\":{},\"articlesIds\":{},\"isLoading\":false,\"pagesCount\":{},\"route\":{},\"reasonsList\":null,\"view\":\"cards\",\"lastVisitedRoute\":{},\"karma\":{}},\"authorContribution\":{\"authors\":{}},\"betaTest\":{\"currentAnnouncement\":null,\"announcements\":{},\"announcementCards\":null,\"announcementComments\":{},\"announcementCommentThreads\":{},\"announcementCommentingStatuses\":{},\"archivedList\":[]},\"authorStatistics\":{\"articleRefs\":{},\"articleIds\":{},\"pagesCount\":{},\"route\":{},\"viewsCount\":[],\"maxStatsCount\":{}},\"comments\":{\"commentsListV2\":{},\"threads\":[],\"isFormDisabled\":false,\"previewComment\":null,\"pagesCount\":null,\"commentAccess\":{},\"scrollParents\":{},\"pageArticleComments\":{\"freshComments\":[],\"lastViewedComment\":0,\"postId\":null,\"lastCommentTimestamp\":\"\",\"moderated\":[],\"moderatedIds\":[],\"commentRoute\":\"\"}},\"companies\":{\"companyRefs\":{},\"companyIds\":{},\"companyTopIds\":{},\"pagesCount\":{},\"companyProfiles\":{},\"companiesCategories\":[],\"companiesCategoriesTotalCount\":0,\"companiesWidgets\":{},\"companiesWorkers\":{},\"companiesFans\":{},\"route\":{},\"isLoading\":false,\"companyWorkersLoading\":false,\"companyFansLoading\":false,\"vacancies\":{}},\"companiesContribution\":{\"hubs\":{},\"flows\":{},\"companyRefs\":{}},\"companyHubsContribution\":{\"contributionRefs\":{\"hubRefs\":{},\"hubIds\":{}}},\"conversation\":{\"messages\":[],\"respondent\":null,\"isLoadMore\":false},\"conversations\":{\"conversations\":[],\"unreadCount\":0,\"pagesCount\":0,\"isLoadMore\":false},\"desktopState\":{\"desktopFl\":null,\"desktopHl\":null,\"isChecked\":false,\"isLoginDemanded\":false},\"dfp\":{\"slotsDict\":{}},\"docs\":{\"menu\":{},\"articles\":{},\"mainMenu\":[],\"loading\":{\"main\":false,\"dropdown\":false,\"article\":false}},\"feature\":{\"isProbablyVisible\":\"true\"},\"flows\":{\"flows\":[{\"alias\":\"develop\",\"id\":1,\"route\":{\"name\":\"FLOW_PAGE\",\"params\":{\"flowName\":\"develop\"}}},{\"alias\":\"admin\",\"id\":6,\"route\":{\"name\":\"FLOW_PAGE\",\"params\":{\"flowName\":\"admin\"}}},{\"alias\":\"design\",\"id\":2,\"route\":{\"name\":\"FLOW_PAGE\",\"params\":{\"flowName\":\"design\"}}},{\"alias\":\"management\",\"id\":3,\"route\":{\"name\":\"FLOW_PAGE\",\"params\":{\"flowName\":\"management\"}}},{\"alias\":\"marketing\",\"id\":4,\"route\":{\"name\":\"FLOW_PAGE\",\"params\":{\"flowName\":\"marketing\"}}},{\"alias\":\"popsci\",\"id\":7,\"route\":{\"name\":\"FLOW_PAGE\",\"params\":{\"flowName\":\"popsci\"}}}]},\"global\":{\"isPwa\":false,\"device\":\"desktop\",\"isHabrCom\":true},\"hubs\":{\"hubRefs\":{},\"hubIds\":{},\"pagesCount\":{},\"isLoading\":false,\"route\":{}},\"hubsBlock\":{\"hubRefs\":{},\"hubIds\":{}},\"i18n\":{\"fl\":\"ru\",\"hl\":\"ru\"},\"info\":{\"infoPage\":{},\"isLoading\":true},\"location\":{\"urlStruct\":{\"protocol\":null,\"slashes\":null,\"auth\":null,\"host\":null,\"port\":null,\"hostname\":null,\"hash\":null,\"search\":null,\"query\":{},\"pathname\":null,\"path\":null,\"href\":\"\"},\"searchQuery\":null},\"me\":{\"user\":null,\"ppgDemanded\":false,\"karmaResetInfo\":{\"canReincarnate\":null,\"wasReincarnated\":null,\"currentScore\":null},\"notes\":null},\"mostReadingList\":{\"mostReadingListIds\":[],\"mostReadingListRefs\":null,\"promoPost\":null},\"myFeedSettings\":{\"hubIds\":{},\"hubRefs\":{}},\"newsBlock\":{\"articleRefs\":{},\"articleIds\":{},\"requestTime\":{}},\"pinnedPost\":{\"pinnedPost\":null},\"ppa\":{\"articles\":{},\"card\":null,\"transactions\":null,\"totalTransactions\":null,\"isAccessible\":null},\"projectsBlocks\":{\"itemsList\":[],\"blockName\":null,\"companyAlias\":null},\"promoBlock\":{\"promoItems\":[{\"imageUrl\":\"https:\\u002F\\u002Feffect.habr.com\\u002Fs\\u002FnVpVBMNUkV7KgIrhtDfE5g.K0GHiEFET1y4NEnilK1jQSbk_8E3YHnaPhRryjhlW2pCStYRJAe_KMtALhHCz-dy0KqFTCIO74bqYdFo-H8G-mYOCAeTUMdSd-2eOD2adsVecDFL-9n8HDLI5yvJMTXRsd1-McekOswmyAtnZQm9P8j8lqewoeb575kqcXiIbjhJyGcLrnSueUIA0TNZiG11\",\"linkUrl\":\"https:\\u002F\\u002Feffect.habr.com\\u002Fs\\u002FLlOkTchMQjmDOlT0EVIw8g.GdyFf3M2L3I5m0tS7rhwMeu8eqe0eG16N8ImqvnUWn78eHPmfzarF3oa9WOKKynAnNDbSB0TyUBz6TayRXXliqaEre8U-PLpPJS9HfdBkxw\",\"title\":\"Сколько платили айтишникам в первой половине 2021\",\"label\":\"Мегапост\",\"external\":false},{\"imageUrl\":\"https:\\u002F\\u002Feffect.habr.com\\u002Fs\\u002FQ2B17CL8WV1eBKZWuUv3CQ.8NCrVeW1Af-TSvRbrpRheBSNQUpDX2Z3f8-IkXtFwtGf8rnOHCGPEphXm_nbndcEc6xTl6L2LRidB0m9UWpLxrI0YnrZDU7jGf-t8a65mclqy7aVJO9bgqtPy6N7VgJyNHTkL43zLPgFX91XBiBfuqBHxomRzYX9PJaAR9jVBZI\",\"linkUrl\":\"https:\\u002F\\u002Feffect.habr.com\\u002Fs\\u002FeBk7Ry0rByWvA9SNtp8p_g.ZoVbDrrhrWJBtyxRI3U2TLIMqoEeni3TDckai__M927PaQsfXaI7mnK4CeXhahhqc0902bnKfUSuUK7rk6F57kImTkahUiknAEaO5u5oFQE\",\"title\":\"Сколько нужно DS, чтобы распутать клубок big data?\",\"label\":\"Опрос\",\"external\":false},{\"imageUrl\":\"https:\\u002F\\u002Feffect.habr.com\\u002Fs\\u002Fimpm9NN4L0IdnvL_x_DrDw.NwaIK6FneF70ZXLdZ6IqtmdpNgzTdCYnpT4579GxBUnhANhsHo7A7MLuwyY4c18_sTAvPV5gAGZcvZrAXFXSxYv_HjBki2xW0satRYqvBZXTzUVeeUYXgEu0TlAyjdaidTGU8AUlnpQp3rIU6Cel1wy7rcvOpoxN8G2x-xJX-xOtZJas5a9-XUK0kEaO8Zm3\",\"linkUrl\":\"https:\\u002F\\u002Feffect.habr.com\\u002Fs\\u002FAet0VsyfXIoWfwsYswr29g.ew9qzilX3wqp6B6BCva0AGJo3jl80GixAO77aB8G-iOHvs23zpdCaymIchnWQ5cPxtizoTo1Ci5WRo9EhcSNtg\",\"title\":\"Много рыбы: производительность, стабильность, надёжность\",\"label\":\"Промо\",\"external\":true}]},\"pullRefresh\":{\"shouldRefresh\":false},\"sandbox\":{\"articleIds\":[],\"articleRefs\":{},\"pagesCount\":null,\"route\":{},\"lastVisitedRoute\":{},\"isLoading\":false},\"settingsOther\":{\"inputs\":{\"uiLang\":{\"errors\":[],\"ref\":null,\"value\":\"\"},\"articlesLangEnglish\":{\"errors\":[],\"ref\":null,\"value\":false},\"articlesLangRussian\":{\"errors\":[],\"ref\":null,\"value\":false},\"agreement\":{\"errors\":[],\"ref\":null,\"value\":false},\"email\":{\"errors\":[],\"ref\":null,\"value\":true},\"digest\":{\"errors\":[],\"ref\":null,\"value\":true}}},\"similarList\":{\"similarListIds\":[],\"similarListRefs\":null},\"ssr\":{\"error\":null,\"isDataLoaded\":false,\"isDataLoading\":false,\"isHydrationFailed\":false,\"isServer\":false},\"userHubsContribution\":{\"contributionRefs\":{\"hubRefs\":{},\"hubIds\":{}}},\"userInvites\":{\"availableInvites\":0,\"usedInvitesIds\":[],\"usedInvitesRefs\":{},\"usedInvitesPagesCount\":0,\"unusedInvitesIds\":[],\"unusedInvitesRefs\":{},\"unusedInvitesPagesCount\":0},\"users\":{\"authorRefs\":{},\"authorIds\":{},\"pagesCount\":{},\"authorProfiles\":{},\"authorFollowers\":{},\"authorFollowed\":{},\"karmaStats\":[],\"statistics\":null,\"isLoading\":false,\"authorFollowersLoading\":false,\"authorFollowedLoading\":false,\"route\":{}},\"viewport\":{\"prevScrollY\":{},\"scrollY\":0,\"width\":0},\"tracker\":{\"items\":{},\"pagesCache\":{},\"markedViewedSilently\":{},\"markedRead\":{},\"unreadCounters\":{\"applications\":null,\"system\":null,\"mentions\":null,\"subscribers\":null,\"posts_and_comments\":null},\"unviewedCounters\":{\"applications\":null,\"system\":null,\"mentions\":null,\"subscribers\":null,\"posts_and_comments\":null}}};(function(){var s;(s=document.currentScript||document.scripts[document.scripts.length-1]).parentNode.removeChild(s);}());</script>\n",
       "<script defer=\"\" src=\"https://assets.habr.com/habr-web/js/chunk-vendors.babbc823.js\"></script><script defer=\"\" src=\"https://assets.habr.com/habr-web/js/search.8ea8b703.js\"></script><script defer=\"\" src=\"https://assets.habr.com/habr-web/js/app.2108fbd0.js\"></script>\n",
       "<script>\n",
       "      (function(i,s,o,g,r,a,m){i['GoogleAnalyticsObject']=r;i[r]=i[r]||function(){\n",
       "        (i[r].q=i[r].q||[]).push(arguments)},i[r].l=1*new Date();a=s.createElement(o),\n",
       "        m=s.getElementsByTagName(o)[0];a.async=1;a.src=g;m.parentNode.insertBefore(a,m)\n",
       "      })(window,document,'script','//www.google-analytics.com/analytics.js','ga');\n",
       "    </script>\n",
       "<script type=\"text/javascript\">\n",
       "    (function(m,e,t,r,i,k,a){m[i]=m[i]||function(){(m[i].a=m[i].a||[]).push(arguments)};\n",
       "    m[i].l=1*new Date();k=e.createElement(t),a=e.getElementsByTagName(t)[0],k.async=1,k.src=r,a.parentNode.insertBefore(k,a)})\n",
       "    (window, document, \"script\", \"https://mc.yandex.ru/metrika/tag.js\", \"ym\");\n",
       "\n",
       "    ym(24049213, \"init\", {\n",
       "      trackLinks:true,\n",
       "      accurateTrackBounce:true,\n",
       "    });\n",
       "  </script>\n",
       "<noscript>\n",
       "<div>\n",
       "<img alt=\"\" src=\"https://mc.yandex.ru/watch/24049213\" style=\"position:absolute; left:-9999px;\">\n",
       "</img></div>\n",
       "</noscript>\n",
       "<script type=\"text/javascript\">\n",
       "      window.addEventListener('load', function () {\n",
       "        setTimeout(() => {\n",
       "          const img = new Image();\n",
       "          img.src = 'https://vk.com/rtrg?p=VK-RTRG-421343-57vKE';\n",
       "        }, 0);\n",
       "      });\n",
       "    </script>\n",
       "</body>\n",
       "</html>"
      ]
     },
     "execution_count": 105,
     "metadata": {},
     "output_type": "execute_result"
    }
   ],
   "source": [
    "soup = BeautifulSoup(res.text, 'html.parser')\n",
    "soup"
   ]
  },
  {
   "cell_type": "code",
   "execution_count": 106,
   "id": "d003704a",
   "metadata": {},
   "outputs": [
    {
     "data": {
      "text/plain": [
       "[]"
      ]
     },
     "execution_count": 106,
     "metadata": {},
     "output_type": "execute_result"
    }
   ],
   "source": [
    "posts = soup.find_all('article', class_= 'tm-articles-list__item')\n",
    "posts"
   ]
  },
  {
   "cell_type": "code",
   "execution_count": 108,
   "id": "0b849eab",
   "metadata": {},
   "outputs": [],
   "source": [
    "for post in posts:\n",
    "        post_lower = post.text.lower()\n",
    "        if any([post_lower in x for x in KEYWORDS]):\n",
    "            soup = BeautifulSoup(requests.get(post).text, 'html.parser')\n",
    "            time.sleep(0.3)\n",
    "            date = pd.to_datetime(soup.find('span', class_='tm-article-snippet__datetime-published').get('datetime'), dayfirst=True).date()\n",
    "            print(date)\n",
    "            title = soup.find('h2', class_='tm-article-snippet__title tm-article-snippet__title_h2').text\n",
    "            print(title)\n",
    "    "
   ]
  },
  {
   "cell_type": "code",
   "execution_count": 96,
   "id": "3ad1e37b",
   "metadata": {},
   "outputs": [],
   "source": []
  },
  {
   "cell_type": "code",
   "execution_count": null,
   "id": "1da3ede8",
   "metadata": {},
   "outputs": [],
   "source": [
    "kom_news = pd.DataFrame()\n",
    "for link in all_links:\n",
    "    soup = BeautifulSoup(requests.get(link).text, 'html.parser')\n",
    "    time.sleep(0.3)\n",
    "    if soup.find('div', class_='b-article__publish_date'):\n",
    "        date = pd.to_datetime(soup.find('div', class_='b-article__publish_date').find('time').get('datetime'), dayfirst=True).date()\n",
    "    elif soup.find('time', class_='title__cake'):\n",
    "        date = pd.to_datetime(soup.find('time', class_='title__cake').get('datetime'), dayfirst=True).date()\n",
    "    if soup.find('h2', class_='article_name'): \n",
    "        title = soup.find('h2', class_='article_name').text\n",
    "    else: \n",
    "        title = soup.find('h1', class_='article_name').text    \n",
    "    text = soup.find('div', class_='article_text_wrapper').text\n",
    "    row = {'date': date, 'title': title, 'text': text}\n",
    "    kom_news = pd.concat([kom_news, pd.DataFrame([row])])  \n",
    "kom_news.reset_index()"
   ]
  },
  {
   "cell_type": "code",
   "execution_count": null,
   "id": "7a2d6c20",
   "metadata": {},
   "outputs": [],
   "source": []
  },
  {
   "cell_type": "code",
   "execution_count": null,
   "id": "16a164f5",
   "metadata": {},
   "outputs": [],
   "source": []
  },
  {
   "cell_type": "code",
   "execution_count": null,
   "id": "fdc9ab58",
   "metadata": {},
   "outputs": [],
   "source": []
  },
  {
   "cell_type": "markdown",
   "id": "fe690f23",
   "metadata": {},
   "source": [
    "\n",
    "Задание 2.\n",
    "Обязательная часть\n",
    "Написать скрипт, который будет проверять список e-mail адресов на утечку при помощи сервиса Avast Hack Ckeck. Список email-ов задаем переменной в начале кода:\n",
    "EMAIL = [xxx@x.ru, yyy@y.com]\n",
    "\n",
    "В итоге должен формироваться датафрейм со столбцами: <дата утечки> - <источник утечки> - <описание утечки>\n",
    "\n",
    "Подсказка: сервис работает при помощи \"скрытого\" API. Внимательно изучите post-запросы.\n",
    "\n",
    "Дополнительная часть (необязательная)\n",
    "Написать скрипт, который будет получать 50 последних постов указанной группы во Вконтакте.\n",
    "Документация к API VK: https://vk.com/dev/methods , вам поможет метод wall.get\n",
    "\n",
    "GROUP = 'netology'  \n",
    "TOKEN = УДАЛЯЙТЕ В ВЕРСИИ ДЛЯ ПРОВЕРКИ, НА GITHUB НЕ ВЫКЛАДЫВАТЬ\n",
    "В итоге должен формироваться датафрейм со столбцами: <дата поста> - <текст поста>"
   ]
  },
  {
   "cell_type": "code",
   "execution_count": null,
   "id": "a7eac5f9",
   "metadata": {},
   "outputs": [],
   "source": []
  },
  {
   "cell_type": "code",
   "execution_count": null,
   "id": "7c72a3bb",
   "metadata": {},
   "outputs": [],
   "source": []
  },
  {
   "cell_type": "code",
   "execution_count": null,
   "id": "7021f95c",
   "metadata": {},
   "outputs": [],
   "source": []
  }
 ],
 "metadata": {
  "kernelspec": {
   "display_name": "Python 3",
   "language": "python",
   "name": "python3"
  },
  "language_info": {
   "codemirror_mode": {
    "name": "ipython",
    "version": 3
   },
   "file_extension": ".py",
   "mimetype": "text/x-python",
   "name": "python",
   "nbconvert_exporter": "python",
   "pygments_lexer": "ipython3",
   "version": "3.8.8"
  }
 },
 "nbformat": 4,
 "nbformat_minor": 5
}
