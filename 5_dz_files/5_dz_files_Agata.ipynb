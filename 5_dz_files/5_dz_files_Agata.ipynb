{
 "cells": [
  {
   "cell_type": "markdown",
   "id": "db77b2f7",
   "metadata": {},
   "source": [
    "1 Переведите содержимое файла purchase_log.txt в словарь purchases вида:\n",
    "{‘1840e0b9d4’: ‘Продукты’, …}"
   ]
  },
  {
   "cell_type": "code",
   "execution_count": 1,
   "id": "5b278503",
   "metadata": {},
   "outputs": [],
   "source": [
    "import json"
   ]
  },
  {
   "cell_type": "code",
   "execution_count": 27,
   "id": "2dc53468",
   "metadata": {},
   "outputs": [],
   "source": [
    "p_d = open ('purchase_log.txt', 'r', encoding='utf-8')\n",
    "purchases = {}\n",
    "#i = 0\n",
    "for line in p_d:\n",
    "    line = line.strip()\n",
    "    dict_ = json.loads(line)\n",
    "    purchases[dict_['user_id']] = dict_['category']\n",
    "    #i += 1\n",
    "    #if i > 10:\n",
    "       # break"
   ]
  },
  {
   "cell_type": "code",
   "execution_count": 28,
   "id": "c3589bd7",
   "metadata": {},
   "outputs": [
    {
     "name": "stdout",
     "output_type": "stream",
     "text": [
      "{'user_id': 'category', '1840e0b9d4': 'Продукты', '4e4f90fcfb': 'Электроника', 'afea8d72fc': 'Электроника', '373a6055fe': 'Бытовая техника', '9b2ab046f3': 'Электроника', '9f39d307c3': 'Электроника', '44edeffc91': 'Продукты', '704474fa2d': 'Продукты', '1de31be403': 'Бытовая техника', 'b71f36a5e4': 'Продукты'}\n"
     ]
    }
   ],
   "source": [
    "print(purchases)"
   ]
  },
  {
   "cell_type": "markdown",
   "id": "f5d4bc15",
   "metadata": {},
   "source": [
    "2 Для каждого user_id в файле visit_log.csv определите третий столбец с категорией покупки (если покупка была, сам файл visit_log.csv изменять не надо). Запишите в файл funnel.csv визиты из файла visit_log.csv, в которых были покупки с указанием категории."
   ]
  },
  {
   "cell_type": "code",
   "execution_count": 68,
   "id": "1b251244",
   "metadata": {},
   "outputs": [
    {
     "name": "stdout",
     "output_type": "stream",
     "text": [
      "b71f36a5e4 Продукты\n",
      "b71f36a5e4 Продукты\n",
      "b71f36a5e4 Продукты\n",
      "b71f36a5e4 Продукты\n",
      "b71f36a5e4 Продукты\n",
      "b71f36a5e4 Продукты\n",
      "b71f36a5e4 Продукты\n",
      "b71f36a5e4 Продукты\n",
      "b71f36a5e4 Продукты\n",
      "b71f36a5e4 Продукты\n",
      "b71f36a5e4 Продукты\n"
     ]
    }
   ],
   "source": [
    "with open ('visit_log.csv', 'r', encoding='utf-8') as f:\n",
    "    with open ('purchase_log.txt', 'r', encoding='utf-8') as f3:\n",
    "        with open('funnel.csv', 'w') as f2:\n",
    "            for line in f:\n",
    "                line = line.strip().split(',')\n",
    "                for i in purchases:\n",
    "                    if line[0] == dict_['user_id']:\n",
    "                        print(line[0], dict_['category'])\n",
    "                        f2.write(\"line[0], dict_['category']\\n\")\n",
    "f.close()\n",
    "f2.close()\n",
    "        "
   ]
  },
  {
   "cell_type": "code",
   "execution_count": null,
   "id": "3fce0d28",
   "metadata": {},
   "outputs": [],
   "source": []
  },
  {
   "cell_type": "code",
   "execution_count": null,
   "id": "43daa7a1",
   "metadata": {},
   "outputs": [],
   "source": []
  },
  {
   "cell_type": "code",
   "execution_count": null,
   "id": "4d5937e8",
   "metadata": {},
   "outputs": [],
   "source": []
  }
 ],
 "metadata": {
  "kernelspec": {
   "display_name": "Python 3",
   "language": "python",
   "name": "python3"
  },
  "language_info": {
   "codemirror_mode": {
    "name": "ipython",
    "version": 3
   },
   "file_extension": ".py",
   "mimetype": "text/x-python",
   "name": "python",
   "nbconvert_exporter": "python",
   "pygments_lexer": "ipython3",
   "version": "3.8.8"
  }
 },
 "nbformat": 4,
 "nbformat_minor": 5
}
